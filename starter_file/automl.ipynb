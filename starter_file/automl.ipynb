{
 "cells": [
  {
   "cell_type": "markdown",
   "metadata": {},
   "source": [
    "# Automated ML\n",
    "\n",
    "TODO: Import Dependencies. In the cell below, import all the dependencies that you will need to complete the project."
   ]
  },
  {
   "cell_type": "markdown",
   "metadata": {},
   "source": [
    "### Import All Required Dependencies"
   ]
  },
  {
   "cell_type": "code",
   "execution_count": 8,
   "metadata": {
    "gather": {
     "logged": 1598423888013
    },
    "jupyter": {
     "outputs_hidden": false,
     "source_hidden": false
    },
    "nteract": {
     "transient": {
      "deleting": false
     }
    }
   },
   "outputs": [
    {
     "name": "stdout",
     "output_type": "stream",
     "text": [
      "SDK version: 1.20.0\n"
     ]
    }
   ],
   "source": [
    "# System libraries\n",
    "import os\n",
    "import csv\n",
    "import shutil\n",
    "import logging\n",
    "\n",
    "# Conda libraries\n",
    "from matplotlib import pyplot as plt\n",
    "import numpy as np\n",
    "import pandas as pd\n",
    "import pkg_resources\n",
    "\n",
    "# Azure core libraries\n",
    "import azureml.core\n",
    "from azureml.core.experiment import Experiment\n",
    "from azureml.core.workspace import Workspace\n",
    "from azureml.train.automl import AutoMLConfig\n",
    "from azureml.core.dataset import Dataset\n",
    "\n",
    "# Computer target core libraries\n",
    "from azureml.core.compute import ComputeTarget, AmlCompute\n",
    "from azureml.core.compute_target import ComputeTargetException\n",
    "\n",
    "\n",
    "# Libraries for Visualizing run\n",
    "from azureml.widgets import RunDetails\n",
    "\n",
    "#library for Saving model\n",
    "import joblib\n",
    "\n",
    "# Clean data function defined in train.py script\n",
    "from train import clean_data \n",
    "\n",
    "# ONNX libraries\n",
    "import sys\n",
    "import json\n",
    "from azureml.automl.core.onnx_convert import OnnxConvertConstants\n",
    "from azureml.train.automl import constants\n",
    "\n",
    "# Check core SDK version number\n",
    "print(\"SDK version:\", azureml.core.VERSION)"
   ]
  },
  {
   "cell_type": "markdown",
   "metadata": {},
   "source": [
    "### Initialize Workspace\n",
    "Initialize a workspace object from persisted configuration. Make sure the config file is present at .\\config.json"
   ]
  },
  {
   "cell_type": "code",
   "execution_count": 2,
   "metadata": {},
   "outputs": [
    {
     "name": "stdout",
     "output_type": "stream",
     "text": [
      "quick-starts-ws-137067\n",
      "aml-quickstarts-137067\n",
      "southcentralus\n",
      "aa7cf8e8-d23f-4bce-a7b9-1f0b4e0ac8ee\n"
     ]
    }
   ],
   "source": [
    "ws = Workspace.from_config()\n",
    "print(ws.name, ws.resource_group, ws.location, ws.subscription_id, sep = '\\n')"
   ]
  },
  {
   "cell_type": "markdown",
   "metadata": {},
   "source": [
    "### Setup Experiment \n",
    "Here we will be creating an experiment named \"heart-disease-automl\".  "
   ]
  },
  {
   "cell_type": "code",
   "execution_count": 3,
   "metadata": {},
   "outputs": [],
   "source": [
    "# choose a name for experiment\n",
    "experiment_name = 'liver-disease-automl'\n",
    "\n",
    "experiment=Experiment(ws, experiment_name)"
   ]
  },
  {
   "cell_type": "markdown",
   "metadata": {},
   "source": [
    "### Create or Attach an AmlCompute cluster\n",
    "You will need to create a compute target for your AutoML run. In this demo, you get the default AmlCompute as your training compute resource."
   ]
  },
  {
   "cell_type": "code",
   "execution_count": 4,
   "metadata": {},
   "outputs": [
    {
     "name": "stdout",
     "output_type": "stream",
     "text": [
      "Found existing cluster, use it.\n",
      "\n",
      "Running\n"
     ]
    }
   ],
   "source": [
    "#Create compute cluster\n",
    "\n",
    "# Choose a name for your CPU cluster\n",
    "cpu_cluster_name = \"notebook137067\"\n",
    "# Verify that cluster does not exist already\n",
    "try:\n",
    "    compute_target = ComputeTarget(workspace=ws, name=cpu_cluster_name)\n",
    "    print('Found existing cluster, use it.')\n",
    "except ComputeTargetException:\n",
    "    compute_config = AmlCompute.provisioning_configuration(vm_size='STANDARD_DS3_V2',\n",
    "                                                           max_nodes=4)\n",
    "    compute_target = ComputeTarget.create(ws, cpu_cluster_name, compute_config)\n",
    "\n",
    "compute_target.wait_for_completion(show_output=True)"
   ]
  },
  {
   "cell_type": "markdown",
   "metadata": {},
   "source": [
    "## Dataset\n",
    "\n",
    "TODO: In this markdown cell, give an overview of the dataset you are using. Also mention the task you will be performing.\n",
    "TODO: Get data. In the cell below, write code to access the data you will be using in this project. Remember that the dataset needs to be external.\n",
    "\n",
    "### Overview\n",
    "There is an increasing number of patients with liver disease in recent time due to life style and living habits such as excessive alcohol consumption, inhale of harmful gases, excessive weight gain, intake of contaminated food, abuse of drugs. This dataset is aimed at helping doctors during clinical diagnosis of liver disease to elevate burden and the stress involved in analyzing every single patients’ information. Therefore, the goal is to create a classifier that predicts whether a subject is healthy (non-liver patient) or ill (liver patient) based on some clinical and demographic features which are: age, gender, total Bilirubin, direct Bilirubin, total proteins, albumin, A/G ratio, SGPT, SGOT and Alkphos."
   ]
  },
  {
   "cell_type": "code",
   "execution_count": 5,
   "metadata": {},
   "outputs": [],
   "source": [
    "#load the liver dataset to datastore\n",
    "data_path = \"https://raw.githubusercontent.com/chollette/Liver-Disease-Classification-Azure-ML-Capstone-Project/master/starter_file/data/Liver%20Patient%20Dataset%20(LPD)_train.csv\"\n",
    "dataset = pd.read_csv(data_path)"
   ]
  },
  {
   "cell_type": "code",
   "execution_count": 6,
   "metadata": {},
   "outputs": [
    {
     "name": "stderr",
     "output_type": "stream",
     "text": [
      "/anaconda/envs/azureml_py36/lib/python3.6/site-packages/pandas/core/frame.py:4117: SettingWithCopyWarning: \n",
      "A value is trying to be set on a copy of a slice from a DataFrame\n",
      "\n",
      "See the caveats in the documentation: http://pandas.pydata.org/pandas-docs/stable/user_guide/indexing.html#returning-a-view-versus-a-copy\n",
      "  errors=errors,\n"
     ]
    },
    {
     "name": "stdout",
     "output_type": "stream",
     "text": [
      "Uploading an estimated of 1 files\n",
      "Uploading train_data.csv\n",
      "Uploaded train_data.csv, 1 files out of an estimated total of 1\n",
      "Uploaded 1 files\n"
     ]
    },
    {
     "data": {
      "text/plain": [
       "$AZUREML_DATAREFERENCE_workspaceblobstore"
      ]
     },
     "execution_count": 6,
     "metadata": {},
     "output_type": "execute_result"
    }
   ],
   "source": [
    "# Use the clean_data function to clean your data.\n",
    "x, y = clean_data(dataset)\n",
    "train_data = pd.concat([x, y], axis=1, sort=False)\n",
    "#upload the cleaned marketing data to the default datastore (blob) of my workspace.\n",
    "\n",
    "#first convert data to .csv\n",
    "train_data.to_csv('train_data.csv',header=True)\n",
    "\n",
    "#Then upload to datastore\n",
    "datastore = ws.get_default_datastore()\n",
    "datastore.upload_files(['train_data.csv'], target_path='', overwrite=True)"
   ]
  },
  {
   "cell_type": "code",
   "execution_count": 9,
   "metadata": {},
   "outputs": [],
   "source": [
    "#convert back to tabular dataset for running in AutoML\n",
    "train_data = Dataset.Tabular.from_delimited_files(path = [(datastore, 'train_data.csv')])\n",
    "label = \"Result\""
   ]
  },
  {
   "cell_type": "markdown",
   "metadata": {},
   "source": [
    "## AutoML Configuration\n",
    "\n",
    "TODO: Explain why you chose the automl settings and cofiguration you used below."
   ]
  },
  {
   "cell_type": "code",
   "execution_count": 10,
   "metadata": {
    "gather": {
     "logged": 1598429217746
    },
    "jupyter": {
     "outputs_hidden": false,
     "source_hidden": false
    },
    "nteract": {
     "transient": {
      "deleting": false
     }
    }
   },
   "outputs": [],
   "source": [
    "# TODO: Put your automl settings here\n",
    "automl_settings = {   \n",
    "    \"experiment_timeout_hours\": 1,\n",
    "    #\"experiment_timeout_minutes\": 30,\n",
    "    \"enable_early_stopping\" : True,\n",
    "    \"model_explainability\" : True,\n",
    "    \"iteration_timeout_minutes\": 5,\n",
    "    \"max_concurrent_iterations\": 5,\n",
    "    \"max_cores_per_iteration\": -1,\n",
    "    \"n_cross_validations\": 10,\n",
    "    \"primary_metric\": 'accuracy',\n",
    "    \"featurization\": 'auto',\n",
    "    \"verbosity\": logging.INFO,\n",
    "}\n",
    "\n",
    "# TODO: Put your automl config here\n",
    "automl_config = AutoMLConfig(task = 'classification',\n",
    "                             compute_target=compute_target,\n",
    "                             training_data = train_data,\n",
    "                             label_column_name = label,\n",
    "                             debug_log = \"automl_errors.log\",\n",
    "                             **automl_settings\n",
    "                            )"
   ]
  },
  {
   "cell_type": "code",
   "execution_count": 11,
   "metadata": {
    "gather": {
     "logged": 1598431107951
    },
    "jupyter": {
     "outputs_hidden": false,
     "source_hidden": false
    },
    "nteract": {
     "transient": {
      "deleting": false
     }
    }
   },
   "outputs": [
    {
     "name": "stdout",
     "output_type": "stream",
     "text": [
      "Running on remote.\n"
     ]
    }
   ],
   "source": [
    "# TODO: Submit your experiment\n",
    "remote_run = experiment.submit(automl_config)"
   ]
  },
  {
   "cell_type": "markdown",
   "metadata": {},
   "source": [
    "## Run Details\n",
    "\n",
    "OPTIONAL: Write about the different models trained and their performance. Why do you think some models did better than others?\n",
    "\n",
    "TODO: In the cell below, use the `RunDetails` widget to show the different experiments."
   ]
  },
  {
   "cell_type": "code",
   "execution_count": 12,
   "metadata": {
    "gather": {
     "logged": 1598431121770
    },
    "jupyter": {
     "outputs_hidden": false,
     "source_hidden": false
    },
    "nteract": {
     "transient": {
      "deleting": false
     }
    }
   },
   "outputs": [
    {
     "data": {
      "application/vnd.jupyter.widget-view+json": {
       "model_id": "60008c11d2f64d2c97f6251ad1c35ab9",
       "version_major": 2,
       "version_minor": 0
      },
      "text/plain": [
       "_AutoMLWidget(widget_settings={'childWidgetDisplay': 'popup', 'send_telemetry': False, 'log_level': 'INFO', 's…"
      ]
     },
     "metadata": {},
     "output_type": "display_data"
    },
    {
     "data": {
      "application/aml.mini.widget.v1": "{\"status\": \"Completed\", \"workbench_run_details_uri\": \"https://ml.azure.com/experiments/liver-disease-automl/runs/AutoML_504cb5fa-cd54-4ce5-a418-95cf7d6c6e96?wsid=/subscriptions/aa7cf8e8-d23f-4bce-a7b9-1f0b4e0ac8ee/resourcegroups/aml-quickstarts-137067/workspaces/quick-starts-ws-137067\", \"run_id\": \"AutoML_504cb5fa-cd54-4ce5-a418-95cf7d6c6e96\", \"run_properties\": {\"run_id\": \"AutoML_504cb5fa-cd54-4ce5-a418-95cf7d6c6e96\", \"created_utc\": \"2021-02-03T09:56:45.159344Z\", \"properties\": {\"num_iterations\": \"1000\", \"training_type\": \"TrainFull\", \"acquisition_function\": \"EI\", \"primary_metric\": \"accuracy\", \"train_split\": \"0\", \"acquisition_parameter\": \"0\", \"num_cross_validation\": \"10\", \"target\": \"notebook137067\", \"AMLSettingsJsonString\": \"{\\\"path\\\":null,\\\"name\\\":\\\"liver-disease-automl\\\",\\\"subscription_id\\\":\\\"aa7cf8e8-d23f-4bce-a7b9-1f0b4e0ac8ee\\\",\\\"resource_group\\\":\\\"aml-quickstarts-137067\\\",\\\"workspace_name\\\":\\\"quick-starts-ws-137067\\\",\\\"region\\\":\\\"southcentralus\\\",\\\"compute_target\\\":\\\"notebook137067\\\",\\\"spark_service\\\":null,\\\"azure_service\\\":\\\"remote\\\",\\\"many_models\\\":false,\\\"pipeline_fetch_max_batch_size\\\":1,\\\"iterations\\\":1000,\\\"primary_metric\\\":\\\"accuracy\\\",\\\"task_type\\\":\\\"classification\\\",\\\"data_script\\\":null,\\\"validation_size\\\":0.0,\\\"n_cross_validations\\\":10,\\\"y_min\\\":null,\\\"y_max\\\":null,\\\"num_classes\\\":null,\\\"featurization\\\":\\\"auto\\\",\\\"_ignore_package_version_incompatibilities\\\":false,\\\"is_timeseries\\\":false,\\\"max_cores_per_iteration\\\":-1,\\\"max_concurrent_iterations\\\":5,\\\"iteration_timeout_minutes\\\":5,\\\"mem_in_mb\\\":null,\\\"enforce_time_on_windows\\\":false,\\\"experiment_timeout_minutes\\\":60,\\\"experiment_exit_score\\\":null,\\\"whitelist_models\\\":null,\\\"blacklist_algos\\\":[\\\"TensorFlowLinearClassifier\\\",\\\"TensorFlowDNN\\\"],\\\"supported_models\\\":[\\\"SGD\\\",\\\"TensorFlowDNN\\\",\\\"TensorFlowLinearClassifier\\\",\\\"MultinomialNaiveBayes\\\",\\\"RandomForest\\\",\\\"LinearSVM\\\",\\\"DecisionTree\\\",\\\"SVM\\\",\\\"AveragedPerceptronClassifier\\\",\\\"GradientBoosting\\\",\\\"KNN\\\",\\\"BernoulliNaiveBayes\\\",\\\"LogisticRegression\\\",\\\"ExtremeRandomTrees\\\",\\\"LightGBM\\\",\\\"XGBoostClassifier\\\"],\\\"auto_blacklist\\\":true,\\\"blacklist_samples_reached\\\":false,\\\"exclude_nan_labels\\\":true,\\\"verbosity\\\":20,\\\"_debug_log\\\":\\\"azureml_automl.log\\\",\\\"show_warnings\\\":false,\\\"model_explainability\\\":true,\\\"service_url\\\":null,\\\"sdk_url\\\":null,\\\"sdk_packages\\\":null,\\\"enable_onnx_compatible_models\\\":false,\\\"enable_split_onnx_featurizer_estimator_models\\\":false,\\\"vm_type\\\":\\\"STANDARD_DS12_V2\\\",\\\"telemetry_verbosity\\\":20,\\\"send_telemetry\\\":true,\\\"enable_dnn\\\":false,\\\"scenario\\\":\\\"SDK-1.13.0\\\",\\\"environment_label\\\":null,\\\"force_text_dnn\\\":false,\\\"enable_feature_sweeping\\\":true,\\\"enable_early_stopping\\\":true,\\\"early_stopping_n_iters\\\":10,\\\"metrics\\\":null,\\\"enable_ensembling\\\":true,\\\"enable_stack_ensembling\\\":true,\\\"ensemble_iterations\\\":15,\\\"enable_tf\\\":false,\\\"enable_subsampling\\\":null,\\\"subsample_seed\\\":null,\\\"enable_nimbusml\\\":false,\\\"enable_streaming\\\":false,\\\"force_streaming\\\":false,\\\"track_child_runs\\\":true,\\\"allowed_private_models\\\":[],\\\"label_column_name\\\":\\\"Result\\\",\\\"weight_column_name\\\":null,\\\"cv_split_column_names\\\":null,\\\"enable_local_managed\\\":false,\\\"_local_managed_run_id\\\":null,\\\"cost_mode\\\":1,\\\"lag_length\\\":0,\\\"metric_operation\\\":\\\"maximize\\\",\\\"preprocess\\\":true}\", \"DataPrepJsonString\": \"{\\\\\\\"training_data\\\\\\\": \\\\\\\"{\\\\\\\\\\\\\\\"blocks\\\\\\\\\\\\\\\": [{\\\\\\\\\\\\\\\"id\\\\\\\\\\\\\\\": \\\\\\\\\\\\\\\"513109ba-aed7-40a6-9f69-b3a6dac1b99b\\\\\\\\\\\\\\\", \\\\\\\\\\\\\\\"type\\\\\\\\\\\\\\\": \\\\\\\\\\\\\\\"Microsoft.DPrep.GetDatastoreFilesBlock\\\\\\\\\\\\\\\", \\\\\\\\\\\\\\\"arguments\\\\\\\\\\\\\\\": {\\\\\\\\\\\\\\\"datastores\\\\\\\\\\\\\\\": [{\\\\\\\\\\\\\\\"datastoreName\\\\\\\\\\\\\\\": \\\\\\\\\\\\\\\"workspaceblobstore\\\\\\\\\\\\\\\", \\\\\\\\\\\\\\\"path\\\\\\\\\\\\\\\": \\\\\\\\\\\\\\\"train_data.csv\\\\\\\\\\\\\\\", \\\\\\\\\\\\\\\"resourceGroup\\\\\\\\\\\\\\\": \\\\\\\\\\\\\\\"aml-quickstarts-137067\\\\\\\\\\\\\\\", \\\\\\\\\\\\\\\"subscription\\\\\\\\\\\\\\\": \\\\\\\\\\\\\\\"aa7cf8e8-d23f-4bce-a7b9-1f0b4e0ac8ee\\\\\\\\\\\\\\\", \\\\\\\\\\\\\\\"workspaceName\\\\\\\\\\\\\\\": \\\\\\\\\\\\\\\"quick-starts-ws-137067\\\\\\\\\\\\\\\"}]}, \\\\\\\\\\\\\\\"localData\\\\\\\\\\\\\\\": {}, \\\\\\\\\\\\\\\"isEnabled\\\\\\\\\\\\\\\": true, \\\\\\\\\\\\\\\"name\\\\\\\\\\\\\\\": null, \\\\\\\\\\\\\\\"annotation\\\\\\\\\\\\\\\": null}, {\\\\\\\\\\\\\\\"id\\\\\\\\\\\\\\\": \\\\\\\\\\\\\\\"6219898c-3be6-428f-9c38-ae3292c2eaf7\\\\\\\\\\\\\\\", \\\\\\\\\\\\\\\"type\\\\\\\\\\\\\\\": \\\\\\\\\\\\\\\"Microsoft.DPrep.ParseDelimitedBlock\\\\\\\\\\\\\\\", \\\\\\\\\\\\\\\"arguments\\\\\\\\\\\\\\\": {\\\\\\\\\\\\\\\"columnHeadersMode\\\\\\\\\\\\\\\": 3, \\\\\\\\\\\\\\\"fileEncoding\\\\\\\\\\\\\\\": 0, \\\\\\\\\\\\\\\"handleQuotedLineBreaks\\\\\\\\\\\\\\\": false, \\\\\\\\\\\\\\\"preview\\\\\\\\\\\\\\\": false, \\\\\\\\\\\\\\\"separator\\\\\\\\\\\\\\\": \\\\\\\\\\\\\\\",\\\\\\\\\\\\\\\", \\\\\\\\\\\\\\\"skipRows\\\\\\\\\\\\\\\": 0, \\\\\\\\\\\\\\\"skipRowsMode\\\\\\\\\\\\\\\": 0}, \\\\\\\\\\\\\\\"localData\\\\\\\\\\\\\\\": {}, \\\\\\\\\\\\\\\"isEnabled\\\\\\\\\\\\\\\": true, \\\\\\\\\\\\\\\"name\\\\\\\\\\\\\\\": null, \\\\\\\\\\\\\\\"annotation\\\\\\\\\\\\\\\": null}, {\\\\\\\\\\\\\\\"id\\\\\\\\\\\\\\\": \\\\\\\\\\\\\\\"bb430315-c8f6-4bb6-8082-3d860686c283\\\\\\\\\\\\\\\", \\\\\\\\\\\\\\\"type\\\\\\\\\\\\\\\": \\\\\\\\\\\\\\\"Microsoft.DPrep.DropColumnsBlock\\\\\\\\\\\\\\\", \\\\\\\\\\\\\\\"arguments\\\\\\\\\\\\\\\": {\\\\\\\\\\\\\\\"columns\\\\\\\\\\\\\\\": {\\\\\\\\\\\\\\\"type\\\\\\\\\\\\\\\": 0, \\\\\\\\\\\\\\\"details\\\\\\\\\\\\\\\": {\\\\\\\\\\\\\\\"selectedColumns\\\\\\\\\\\\\\\": [\\\\\\\\\\\\\\\"Path\\\\\\\\\\\\\\\"]}}}, \\\\\\\\\\\\\\\"localData\\\\\\\\\\\\\\\": {}, \\\\\\\\\\\\\\\"isEnabled\\\\\\\\\\\\\\\": true, \\\\\\\\\\\\\\\"name\\\\\\\\\\\\\\\": null, \\\\\\\\\\\\\\\"annotation\\\\\\\\\\\\\\\": null}, {\\\\\\\\\\\\\\\"id\\\\\\\\\\\\\\\": \\\\\\\\\\\\\\\"9920541b-79cb-44a9-bdef-ea59ded7befc\\\\\\\\\\\\\\\", \\\\\\\\\\\\\\\"type\\\\\\\\\\\\\\\": \\\\\\\\\\\\\\\"Microsoft.DPrep.SetColumnTypesBlock\\\\\\\\\\\\\\\", \\\\\\\\\\\\\\\"arguments\\\\\\\\\\\\\\\": {\\\\\\\\\\\\\\\"columnConversion\\\\\\\\\\\\\\\": [{\\\\\\\\\\\\\\\"column\\\\\\\\\\\\\\\": {\\\\\\\\\\\\\\\"type\\\\\\\\\\\\\\\": 2, \\\\\\\\\\\\\\\"details\\\\\\\\\\\\\\\": {\\\\\\\\\\\\\\\"selectedColumn\\\\\\\\\\\\\\\": \\\\\\\\\\\\\\\"Column1\\\\\\\\\\\\\\\"}}, \\\\\\\\\\\\\\\"typeProperty\\\\\\\\\\\\\\\": 2}, {\\\\\\\\\\\\\\\"column\\\\\\\\\\\\\\\": {\\\\\\\\\\\\\\\"type\\\\\\\\\\\\\\\": 2, \\\\\\\\\\\\\\\"details\\\\\\\\\\\\\\\": {\\\\\\\\\\\\\\\"selectedColumn\\\\\\\\\\\\\\\": \\\\\\\\\\\\\\\"Age\\\\\\\\\\\\\\\"}}, \\\\\\\\\\\\\\\"typeProperty\\\\\\\\\\\\\\\": 3}, {\\\\\\\\\\\\\\\"column\\\\\\\\\\\\\\\": {\\\\\\\\\\\\\\\"type\\\\\\\\\\\\\\\": 2, \\\\\\\\\\\\\\\"details\\\\\\\\\\\\\\\": {\\\\\\\\\\\\\\\"selectedColumn\\\\\\\\\\\\\\\": \\\\\\\\\\\\\\\"Gender_Female\\\\\\\\\\\\\\\"}}, \\\\\\\\\\\\\\\"typeProperty\\\\\\\\\\\\\\\": 2}, {\\\\\\\\\\\\\\\"column\\\\\\\\\\\\\\\": {\\\\\\\\\\\\\\\"type\\\\\\\\\\\\\\\": 2, \\\\\\\\\\\\\\\"details\\\\\\\\\\\\\\\": {\\\\\\\\\\\\\\\"selectedColumn\\\\\\\\\\\\\\\": \\\\\\\\\\\\\\\"Gender_Male\\\\\\\\\\\\\\\"}}, \\\\\\\\\\\\\\\"typeProperty\\\\\\\\\\\\\\\": 2}, {\\\\\\\\\\\\\\\"column\\\\\\\\\\\\\\\": {\\\\\\\\\\\\\\\"type\\\\\\\\\\\\\\\": 2, \\\\\\\\\\\\\\\"details\\\\\\\\\\\\\\\": {\\\\\\\\\\\\\\\"selectedColumn\\\\\\\\\\\\\\\": \\\\\\\\\\\\\\\"T_Bili\\\\\\\\\\\\\\\"}}, \\\\\\\\\\\\\\\"typeProperty\\\\\\\\\\\\\\\": 3}, {\\\\\\\\\\\\\\\"column\\\\\\\\\\\\\\\": {\\\\\\\\\\\\\\\"type\\\\\\\\\\\\\\\": 2, \\\\\\\\\\\\\\\"details\\\\\\\\\\\\\\\": {\\\\\\\\\\\\\\\"selectedColumn\\\\\\\\\\\\\\\": \\\\\\\\\\\\\\\"D_Bili\\\\\\\\\\\\\\\"}}, \\\\\\\\\\\\\\\"typeProperty\\\\\\\\\\\\\\\": 3}, {\\\\\\\\\\\\\\\"column\\\\\\\\\\\\\\\": {\\\\\\\\\\\\\\\"type\\\\\\\\\\\\\\\": 2, \\\\\\\\\\\\\\\"details\\\\\\\\\\\\\\\": {\\\\\\\\\\\\\\\"selectedColumn\\\\\\\\\\\\\\\": \\\\\\\\\\\\\\\"AA_Phosphate\\\\\\\\\\\\\\\"}}, \\\\\\\\\\\\\\\"typeProperty\\\\\\\\\\\\\\\": 3}, {\\\\\\\\\\\\\\\"column\\\\\\\\\\\\\\\": {\\\\\\\\\\\\\\\"type\\\\\\\\\\\\\\\": 2, \\\\\\\\\\\\\\\"details\\\\\\\\\\\\\\\": {\\\\\\\\\\\\\\\"selectedColumn\\\\\\\\\\\\\\\": \\\\\\\\\\\\\\\"SgptA_Aminotrans\\\\\\\\\\\\\\\"}}, \\\\\\\\\\\\\\\"typeProperty\\\\\\\\\\\\\\\": 3}, {\\\\\\\\\\\\\\\"column\\\\\\\\\\\\\\\": {\\\\\\\\\\\\\\\"type\\\\\\\\\\\\\\\": 2, \\\\\\\\\\\\\\\"details\\\\\\\\\\\\\\\": {\\\\\\\\\\\\\\\"selectedColumn\\\\\\\\\\\\\\\": \\\\\\\\\\\\\\\"SgotA_Aminotrans\\\\\\\\\\\\\\\"}}, \\\\\\\\\\\\\\\"typeProperty\\\\\\\\\\\\\\\": 3}, {\\\\\\\\\\\\\\\"column\\\\\\\\\\\\\\\": {\\\\\\\\\\\\\\\"type\\\\\\\\\\\\\\\": 2, \\\\\\\\\\\\\\\"details\\\\\\\\\\\\\\\": {\\\\\\\\\\\\\\\"selectedColumn\\\\\\\\\\\\\\\": \\\\\\\\\\\\\\\"T_proteins\\\\\\\\\\\\\\\"}}, \\\\\\\\\\\\\\\"typeProperty\\\\\\\\\\\\\\\": 3}, {\\\\\\\\\\\\\\\"column\\\\\\\\\\\\\\\": {\\\\\\\\\\\\\\\"type\\\\\\\\\\\\\\\": 2, \\\\\\\\\\\\\\\"details\\\\\\\\\\\\\\\": {\\\\\\\\\\\\\\\"selectedColumn\\\\\\\\\\\\\\\": \\\\\\\\\\\\\\\"ALB_Albumin\\\\\\\\\\\\\\\"}}, \\\\\\\\\\\\\\\"typeProperty\\\\\\\\\\\\\\\": 3}, {\\\\\\\\\\\\\\\"column\\\\\\\\\\\\\\\": {\\\\\\\\\\\\\\\"type\\\\\\\\\\\\\\\": 2, \\\\\\\\\\\\\\\"details\\\\\\\\\\\\\\\": {\\\\\\\\\\\\\\\"selectedColumn\\\\\\\\\\\\\\\": \\\\\\\\\\\\\\\"AG_AlbuminR_GlobulinR\\\\\\\\\\\\\\\"}}, \\\\\\\\\\\\\\\"typeProperty\\\\\\\\\\\\\\\": 3}, {\\\\\\\\\\\\\\\"column\\\\\\\\\\\\\\\": {\\\\\\\\\\\\\\\"type\\\\\\\\\\\\\\\": 2, \\\\\\\\\\\\\\\"details\\\\\\\\\\\\\\\": {\\\\\\\\\\\\\\\"selectedColumn\\\\\\\\\\\\\\\": \\\\\\\\\\\\\\\"Result\\\\\\\\\\\\\\\"}}, \\\\\\\\\\\\\\\"typeProperty\\\\\\\\\\\\\\\": 2}]}, \\\\\\\\\\\\\\\"localData\\\\\\\\\\\\\\\": {}, \\\\\\\\\\\\\\\"isEnabled\\\\\\\\\\\\\\\": true, \\\\\\\\\\\\\\\"name\\\\\\\\\\\\\\\": null, \\\\\\\\\\\\\\\"annotation\\\\\\\\\\\\\\\": null}], \\\\\\\\\\\\\\\"inspectors\\\\\\\\\\\\\\\": [], \\\\\\\\\\\\\\\"meta\\\\\\\\\\\\\\\": {\\\\\\\\\\\\\\\"savedDatasetId\\\\\\\\\\\\\\\": \\\\\\\\\\\\\\\"e635a73e-0b8d-4e4a-bd33-3bdf094ff7f7\\\\\\\\\\\\\\\", \\\\\\\\\\\\\\\"datasetType\\\\\\\\\\\\\\\": \\\\\\\\\\\\\\\"tabular\\\\\\\\\\\\\\\", \\\\\\\\\\\\\\\"subscriptionId\\\\\\\\\\\\\\\": \\\\\\\\\\\\\\\"aa7cf8e8-d23f-4bce-a7b9-1f0b4e0ac8ee\\\\\\\\\\\\\\\", \\\\\\\\\\\\\\\"workspaceId\\\\\\\\\\\\\\\": \\\\\\\\\\\\\\\"3f57c204-ba57-455c-9722-13945b0cb30e\\\\\\\\\\\\\\\", \\\\\\\\\\\\\\\"workspaceLocation\\\\\\\\\\\\\\\": \\\\\\\\\\\\\\\"southcentralus\\\\\\\\\\\\\\\"}}\\\\\\\", \\\\\\\"activities\\\\\\\": 0}\", \"EnableSubsampling\": null, \"runTemplate\": \"AutoML\", \"azureml.runsource\": \"automl\", \"display_task_type\": \"classification\", \"dependencies_versions\": \"{\\\"azureml-widgets\\\": \\\"1.20.0\\\", \\\"azureml-train\\\": \\\"1.20.0\\\", \\\"azureml-train-restclients-hyperdrive\\\": \\\"1.20.0\\\", \\\"azureml-train-core\\\": \\\"1.20.0\\\", \\\"azureml-train-automl\\\": \\\"1.20.0\\\", \\\"azureml-train-automl-runtime\\\": \\\"1.20.0\\\", \\\"azureml-train-automl-client\\\": \\\"1.20.0\\\", \\\"azureml-tensorboard\\\": \\\"1.20.0\\\", \\\"azureml-telemetry\\\": \\\"1.20.0\\\", \\\"azureml-sdk\\\": \\\"1.20.0\\\", \\\"azureml-samples\\\": \\\"0+unknown\\\", \\\"azureml-pipeline\\\": \\\"1.20.0\\\", \\\"azureml-pipeline-steps\\\": \\\"1.20.0\\\", \\\"azureml-pipeline-core\\\": \\\"1.20.0\\\", \\\"azureml-opendatasets\\\": \\\"1.20.0\\\", \\\"azureml-model-management-sdk\\\": \\\"1.0.1b6.post1\\\", \\\"azureml-mlflow\\\": \\\"1.20.0.post1\\\", \\\"azureml-interpret\\\": \\\"1.20.0\\\", \\\"azureml-explain-model\\\": \\\"1.20.0\\\", \\\"azureml-defaults\\\": \\\"1.20.0\\\", \\\"azureml-dataset-runtime\\\": \\\"1.20.0\\\", \\\"azureml-dataprep\\\": \\\"2.7.3\\\", \\\"azureml-dataprep-rslex\\\": \\\"1.5.0\\\", \\\"azureml-dataprep-native\\\": \\\"27.0.0\\\", \\\"azureml-datadrift\\\": \\\"1.20.0\\\", \\\"azureml-core\\\": \\\"1.20.0\\\", \\\"azureml-contrib-services\\\": \\\"1.20.0\\\", \\\"azureml-contrib-server\\\": \\\"1.20.0\\\", \\\"azureml-contrib-reinforcementlearning\\\": \\\"1.20.0\\\", \\\"azureml-contrib-pipeline-steps\\\": \\\"1.20.0\\\", \\\"azureml-contrib-notebook\\\": \\\"1.20.0\\\", \\\"azureml-contrib-interpret\\\": \\\"1.20.0\\\", \\\"azureml-contrib-gbdt\\\": \\\"1.20.0\\\", \\\"azureml-contrib-fairness\\\": \\\"1.20.0\\\", \\\"azureml-contrib-dataset\\\": \\\"1.20.0\\\", \\\"azureml-cli-common\\\": \\\"1.20.0\\\", \\\"azureml-automl-runtime\\\": \\\"1.20.0\\\", \\\"azureml-automl-core\\\": \\\"1.20.0\\\", \\\"azureml-accel-models\\\": \\\"1.20.0\\\"}\", \"_aml_system_scenario_identification\": \"Remote.Parent\", \"ClientType\": \"SDK\", \"environment_cpu_name\": \"AzureML-AutoML\", \"environment_cpu_label\": \"prod\", \"environment_gpu_name\": \"AzureML-AutoML-GPU\", \"environment_gpu_label\": \"prod\", \"root_attribution\": \"automl\", \"attribution\": \"AutoML\", \"Orchestrator\": \"AutoML\", \"CancelUri\": \"https://southcentralus.experiments.azureml.net/jasmine/v1.0/subscriptions/aa7cf8e8-d23f-4bce-a7b9-1f0b4e0ac8ee/resourceGroups/aml-quickstarts-137067/providers/Microsoft.MachineLearningServices/workspaces/quick-starts-ws-137067/experimentids/e6dbbb84-4d17-49e9-838e-5a35dcd7f7d1/cancel/AutoML_504cb5fa-cd54-4ce5-a418-95cf7d6c6e96\", \"ClientSdkVersion\": \"1.21.0\", \"snapshotId\": \"00000000-0000-0000-0000-000000000000\", \"SetupRunId\": \"AutoML_504cb5fa-cd54-4ce5-a418-95cf7d6c6e96_setup\", \"SetupRunContainerId\": \"dcid.AutoML_504cb5fa-cd54-4ce5-a418-95cf7d6c6e96_setup\", \"FeaturizationRunJsonPath\": \"featurizer_container.json\", \"FeaturizationRunId\": \"AutoML_504cb5fa-cd54-4ce5-a418-95cf7d6c6e96_featurize\", \"ProblemInfoJsonString\": \"{\\\"dataset_num_categorical\\\": 0, \\\"is_sparse\\\": false, \\\"subsampling\\\": false, \\\"dataset_classes\\\": 2, \\\"dataset_features\\\": 12, \\\"dataset_samples\\\": 27158, \\\"single_frequency_class_detected\\\": false}\", \"ModelExplainRunId\": \"AutoML_504cb5fa-cd54-4ce5-a418-95cf7d6c6e96_ModelExplain\"}, \"tags\": {\"model_explain_run\": \"best_run\", \"_aml_system_azureml.automlComponent\": \"AutoML\", \"pipeline_id\": \"\", \"score\": \"\", \"predicted_cost\": \"\", \"fit_time\": \"\", \"training_percent\": \"\", \"iteration\": \"\", \"run_preprocessor\": \"\", \"run_algorithm\": \"\", \"dynamic_whitelisting_iterations\": \"<25>;<30>;<35>;\", \"automl_best_child_run_id\": \"AutoML_504cb5fa-cd54-4ce5-a418-95cf7d6c6e96_38\", \"model_explain_best_run_child_id\": \"AutoML_504cb5fa-cd54-4ce5-a418-95cf7d6c6e96_38\"}, \"end_time_utc\": \"2021-02-03T10:19:48.633216Z\", \"status\": \"Completed\", \"log_files\": {}, \"log_groups\": [], \"run_duration\": \"0:23:03\"}, \"child_runs\": [{\"run_id\": \"AutoML_504cb5fa-cd54-4ce5-a418-95cf7d6c6e96_0\", \"run_number\": 5, \"metric\": null, \"status\": \"Completed\", \"run_type\": \"azureml.scriptrun\", \"training_percent\": \"100\", \"start_time\": \"2021-02-03T10:01:06.67613Z\", \"end_time\": \"2021-02-03T10:03:13.247569Z\", \"created_time\": \"2021-02-03T10:00:53.866187Z\", \"created_time_dt\": \"2021-02-03T10:00:53.866187Z\", \"duration\": \"0:02:19\", \"iteration\": \"0\", \"goal\": \"accuracy_max\", \"run_name\": \"MaxAbsScaler, LightGBM\", \"run_properties\": \"copy=True\", \"primary_metric\": 0.9996686, \"best_metric\": 0.9996686}, {\"run_id\": \"AutoML_504cb5fa-cd54-4ce5-a418-95cf7d6c6e96_3\", \"run_number\": 6, \"metric\": null, \"status\": \"Completed\", \"run_type\": \"azureml.scriptrun\", \"training_percent\": \"100\", \"start_time\": \"2021-02-03T10:01:07.367469Z\", \"end_time\": \"2021-02-03T10:02:26.004129Z\", \"created_time\": \"2021-02-03T10:00:54.007078Z\", \"created_time_dt\": \"2021-02-03T10:00:54.007078Z\", \"duration\": \"0:01:31\", \"iteration\": \"3\", \"goal\": \"accuracy_max\", \"run_name\": \"MinMaxScaler, RandomForest\", \"run_properties\": \"copy=True, feature_range=(0, 1\", \"primary_metric\": 0.76651403, \"best_metric\": 0.9996686}, {\"run_id\": \"AutoML_504cb5fa-cd54-4ce5-a418-95cf7d6c6e96_1\", \"run_number\": 7, \"metric\": null, \"status\": \"Completed\", \"run_type\": \"azureml.scriptrun\", \"training_percent\": \"100\", \"start_time\": \"2021-02-03T10:01:07.191293Z\", \"end_time\": \"2021-02-03T10:03:10.898951Z\", \"created_time\": \"2021-02-03T10:00:54.00858Z\", \"created_time_dt\": \"2021-02-03T10:00:54.00858Z\", \"duration\": \"0:02:16\", \"iteration\": \"1\", \"goal\": \"accuracy_max\", \"run_name\": \"MaxAbsScaler, XGBoostClassifier\", \"run_properties\": \"copy=True\", \"primary_metric\": 0.87377553, \"best_metric\": 0.9996686}, {\"run_id\": \"AutoML_504cb5fa-cd54-4ce5-a418-95cf7d6c6e96_2\", \"run_number\": 8, \"metric\": null, \"status\": \"Completed\", \"run_type\": \"azureml.scriptrun\", \"training_percent\": \"100\", \"start_time\": \"2021-02-03T10:01:08.383525Z\", \"end_time\": \"2021-02-03T10:02:32.426639Z\", \"created_time\": \"2021-02-03T10:00:54.022929Z\", \"created_time_dt\": \"2021-02-03T10:00:54.022929Z\", \"duration\": \"0:01:38\", \"iteration\": \"2\", \"goal\": \"accuracy_max\", \"run_name\": \"MinMaxScaler, RandomForest\", \"run_properties\": \"copy=True, feature_range=(0, 1\", \"primary_metric\": 0.8055829, \"best_metric\": 0.9996686}, {\"run_id\": \"AutoML_504cb5fa-cd54-4ce5-a418-95cf7d6c6e96_4\", \"run_number\": 9, \"metric\": null, \"status\": \"Completed\", \"run_type\": \"azureml.scriptrun\", \"training_percent\": \"100\", \"start_time\": \"2021-02-03T10:01:06.349576Z\", \"end_time\": \"2021-02-03T10:02:33.656838Z\", \"created_time\": \"2021-02-03T10:00:54.820211Z\", \"created_time_dt\": \"2021-02-03T10:00:54.820211Z\", \"duration\": \"0:01:38\", \"iteration\": \"4\", \"goal\": \"accuracy_max\", \"run_name\": \"MinMaxScaler, RandomForest\", \"run_properties\": \"copy=True, feature_range=(0, 1\", \"primary_metric\": 0.79792428, \"best_metric\": 0.9996686}, {\"run_id\": \"AutoML_504cb5fa-cd54-4ce5-a418-95cf7d6c6e96_5\", \"run_number\": 10, \"metric\": null, \"status\": \"Completed\", \"run_type\": \"azureml.scriptrun\", \"training_percent\": \"100\", \"start_time\": \"2021-02-03T10:02:42.034915Z\", \"end_time\": \"2021-02-03T10:05:21.949594Z\", \"created_time\": \"2021-02-03T10:02:29.707539Z\", \"created_time_dt\": \"2021-02-03T10:02:29.707539Z\", \"duration\": \"0:02:52\", \"iteration\": \"5\", \"goal\": \"accuracy_max\", \"run_name\": \"TruncatedSVDWrapper, XGBoostClassifier\", \"run_properties\": \"n_components=0.8015789473684211, random_state=None\", \"primary_metric\": 0.75023919, \"best_metric\": 0.9996686}, {\"run_id\": \"AutoML_504cb5fa-cd54-4ce5-a418-95cf7d6c6e96_6\", \"run_number\": 11, \"metric\": null, \"status\": \"Completed\", \"run_type\": \"azureml.scriptrun\", \"training_percent\": \"100\", \"start_time\": \"2021-02-03T10:02:47.533616Z\", \"end_time\": \"2021-02-03T10:05:25.609326Z\", \"created_time\": \"2021-02-03T10:02:34.957167Z\", \"created_time_dt\": \"2021-02-03T10:02:34.957167Z\", \"duration\": \"0:02:50\", \"iteration\": \"6\", \"goal\": \"accuracy_max\", \"run_name\": \"SparseNormalizer, XGBoostClassifier\", \"run_properties\": \"<azureml.automl.runtime.shared.model_wrappers.SparseNormalizer object at 0x7f09d3abcda0\", \"primary_metric\": 0.74902421, \"best_metric\": 0.9996686}, {\"run_id\": \"AutoML_504cb5fa-cd54-4ce5-a418-95cf7d6c6e96_7\", \"run_number\": 12, \"metric\": null, \"status\": \"Completed\", \"run_type\": \"azureml.scriptrun\", \"training_percent\": \"100\", \"start_time\": \"2021-02-03T10:02:52.244744Z\", \"end_time\": \"2021-02-03T10:04:56.925444Z\", \"created_time\": \"2021-02-03T10:02:39.025255Z\", \"created_time_dt\": \"2021-02-03T10:02:39.025255Z\", \"duration\": \"0:02:17\", \"iteration\": \"7\", \"goal\": \"accuracy_max\", \"run_name\": \"SparseNormalizer, XGBoostClassifier\", \"run_properties\": \"<azureml.automl.runtime.shared.model_wrappers.SparseNormalizer object at 0x7fd677bae470\", \"primary_metric\": 0.76596224, \"best_metric\": 0.9996686}, {\"run_id\": \"AutoML_504cb5fa-cd54-4ce5-a418-95cf7d6c6e96_8\", \"run_number\": 13, \"metric\": null, \"status\": \"Completed\", \"run_type\": \"azureml.scriptrun\", \"training_percent\": \"100\", \"start_time\": \"2021-02-03T10:03:29.727557Z\", \"end_time\": \"2021-02-03T10:06:04.122265Z\", \"created_time\": \"2021-02-03T10:03:13.234321Z\", \"created_time_dt\": \"2021-02-03T10:03:13.234321Z\", \"duration\": \"0:02:50\", \"iteration\": \"8\", \"goal\": \"accuracy_max\", \"run_name\": \"SparseNormalizer, XGBoostClassifier\", \"run_properties\": \"<azureml.automl.runtime.shared.model_wrappers.SparseNormalizer object at 0x7fd37bb509b0\", \"primary_metric\": 0.75826672, \"best_metric\": 0.9996686}, {\"run_id\": \"AutoML_504cb5fa-cd54-4ce5-a418-95cf7d6c6e96_9\", \"run_number\": 14, \"metric\": null, \"status\": \"Completed\", \"run_type\": \"azureml.scriptrun\", \"training_percent\": \"100\", \"start_time\": \"2021-02-03T10:03:28.103252Z\", \"end_time\": \"2021-02-03T10:06:09.372794Z\", \"created_time\": \"2021-02-03T10:03:17.525157Z\", \"created_time_dt\": \"2021-02-03T10:03:17.525157Z\", \"duration\": \"0:02:51\", \"iteration\": \"9\", \"goal\": \"accuracy_max\", \"run_name\": \"SparseNormalizer, XGBoostClassifier\", \"run_properties\": \"<azureml.automl.runtime.shared.model_wrappers.SparseNormalizer object at 0x7f6661da2390\", \"primary_metric\": 0.73492167, \"best_metric\": 0.9996686}, {\"run_id\": \"AutoML_504cb5fa-cd54-4ce5-a418-95cf7d6c6e96_10\", \"run_number\": 15, \"metric\": null, \"status\": \"Completed\", \"run_type\": \"azureml.scriptrun\", \"training_percent\": \"100\", \"start_time\": \"2021-02-03T10:05:14.468026Z\", \"end_time\": \"2021-02-03T10:06:41.619697Z\", \"created_time\": \"2021-02-03T10:04:59.479575Z\", \"created_time_dt\": \"2021-02-03T10:04:59.479575Z\", \"duration\": \"0:01:42\", \"iteration\": \"10\", \"goal\": \"accuracy_max\", \"run_name\": \"MaxAbsScaler, GradientBoosting\", \"run_properties\": \"copy=True\", \"primary_metric\": 0.76323762, \"best_metric\": 0.9996686}, {\"run_id\": \"AutoML_504cb5fa-cd54-4ce5-a418-95cf7d6c6e96_11\", \"run_number\": 16, \"metric\": null, \"status\": \"Completed\", \"run_type\": \"azureml.scriptrun\", \"training_percent\": \"100\", \"start_time\": \"2021-02-03T10:05:38.652253Z\", \"end_time\": \"2021-02-03T10:06:52.681414Z\", \"created_time\": \"2021-02-03T10:05:24.258334Z\", \"created_time_dt\": \"2021-02-03T10:05:24.258334Z\", \"duration\": \"0:01:28\", \"iteration\": \"11\", \"goal\": \"accuracy_max\", \"run_name\": \"SparseNormalizer, LightGBM\", \"run_properties\": \"<azureml.automl.runtime.shared.model_wrappers.SparseNormalizer object at 0x7f270a2a6e80\", \"primary_metric\": 0.71816767, \"best_metric\": 0.9996686}, {\"run_id\": \"AutoML_504cb5fa-cd54-4ce5-a418-95cf7d6c6e96_12\", \"run_number\": 17, \"metric\": null, \"status\": \"Completed\", \"run_type\": \"azureml.scriptrun\", \"training_percent\": \"100\", \"start_time\": \"2021-02-03T10:05:41.326034Z\", \"end_time\": \"2021-02-03T10:06:52.203699Z\", \"created_time\": \"2021-02-03T10:05:30.8238Z\", \"created_time_dt\": \"2021-02-03T10:05:30.8238Z\", \"duration\": \"0:01:21\", \"iteration\": \"12\", \"goal\": \"accuracy_max\", \"run_name\": \"SparseNormalizer, XGBoostClassifier\", \"run_properties\": \"<azureml.automl.runtime.shared.model_wrappers.SparseNormalizer object at 0x7f552c60f3c8\", \"primary_metric\": 0.71721024, \"best_metric\": 0.9996686}, {\"run_id\": \"AutoML_504cb5fa-cd54-4ce5-a418-95cf7d6c6e96_13\", \"run_number\": 18, \"metric\": null, \"status\": \"Completed\", \"run_type\": \"azureml.scriptrun\", \"training_percent\": \"100\", \"start_time\": \"2021-02-03T10:06:22.446705Z\", \"end_time\": \"2021-02-03T10:07:47.154529Z\", \"created_time\": \"2021-02-03T10:06:08.099459Z\", \"created_time_dt\": \"2021-02-03T10:06:08.099459Z\", \"duration\": \"0:01:39\", \"iteration\": \"13\", \"goal\": \"accuracy_max\", \"run_name\": \"StandardScalerWrapper, RandomForest\", \"run_properties\": \"<azureml.automl.runtime.shared.model_wrappers.StandardScalerWrapper object at 0x7f6bc81606a0\", \"primary_metric\": 0.80109034, \"best_metric\": 0.9996686}, {\"run_id\": \"AutoML_504cb5fa-cd54-4ce5-a418-95cf7d6c6e96_14\", \"run_number\": 19, \"metric\": null, \"status\": \"Completed\", \"run_type\": \"azureml.scriptrun\", \"training_percent\": \"100\", \"start_time\": \"2021-02-03T10:06:29.829529Z\", \"end_time\": \"2021-02-03T10:07:45.276951Z\", \"created_time\": \"2021-02-03T10:06:16.022162Z\", \"created_time_dt\": \"2021-02-03T10:06:16.022162Z\", \"duration\": \"0:01:29\", \"iteration\": \"14\", \"goal\": \"accuracy_max\", \"run_name\": \"MinMaxScaler, LogisticRegression\", \"run_properties\": \"copy=True, feature_range=(0, 1\", \"primary_metric\": 0.71875684, \"best_metric\": 0.9996686}, {\"run_id\": \"AutoML_504cb5fa-cd54-4ce5-a418-95cf7d6c6e96_15\", \"run_number\": 20, \"metric\": null, \"status\": \"Completed\", \"run_type\": \"azureml.scriptrun\", \"training_percent\": \"100\", \"start_time\": \"2021-02-03T10:06:59.987154Z\", \"end_time\": \"2021-02-03T10:08:23.057529Z\", \"created_time\": \"2021-02-03T10:06:44.306935Z\", \"created_time_dt\": \"2021-02-03T10:06:44.306935Z\", \"duration\": \"0:01:38\", \"iteration\": \"15\", \"goal\": \"accuracy_max\", \"run_name\": \"StandardScalerWrapper, LogisticRegression\", \"run_properties\": \"<azureml.automl.runtime.shared.model_wrappers.StandardScalerWrapper object at 0x7f304782d438\", \"primary_metric\": 0.72468519, \"best_metric\": 0.9996686}, {\"run_id\": \"AutoML_504cb5fa-cd54-4ce5-a418-95cf7d6c6e96_17\", \"run_number\": 21, \"metric\": null, \"status\": \"Completed\", \"run_type\": \"azureml.scriptrun\", \"training_percent\": \"100\", \"start_time\": \"2021-02-03T10:07:05.827271Z\", \"end_time\": \"2021-02-03T10:08:31.83454Z\", \"created_time\": \"2021-02-03T10:06:55.154725Z\", \"created_time_dt\": \"2021-02-03T10:06:55.154725Z\", \"duration\": \"0:01:36\", \"iteration\": \"17\", \"goal\": \"accuracy_max\", \"run_name\": \"StandardScalerWrapper, LogisticRegression\", \"run_properties\": \"<azureml.automl.runtime.shared.model_wrappers.StandardScalerWrapper object at 0x7fcdd4c117f0\", \"primary_metric\": 0.72439061, \"best_metric\": 0.9996686}, {\"run_id\": \"AutoML_504cb5fa-cd54-4ce5-a418-95cf7d6c6e96_16\", \"run_number\": 22, \"metric\": null, \"status\": \"Completed\", \"run_type\": \"azureml.scriptrun\", \"training_percent\": \"100\", \"start_time\": \"2021-02-03T10:07:06.209643Z\", \"end_time\": \"2021-02-03T10:08:31.664335Z\", \"created_time\": \"2021-02-03T10:06:55.195493Z\", \"created_time_dt\": \"2021-02-03T10:06:55.195493Z\", \"duration\": \"0:01:36\", \"iteration\": \"16\", \"goal\": \"accuracy_max\", \"run_name\": \"StandardScalerWrapper, LogisticRegression\", \"run_properties\": \"<azureml.automl.runtime.shared.model_wrappers.StandardScalerWrapper object at 0x7f27d781beb8\", \"primary_metric\": 0.72472202, \"best_metric\": 0.9996686}, {\"run_id\": \"AutoML_504cb5fa-cd54-4ce5-a418-95cf7d6c6e96_18\", \"run_number\": 23, \"metric\": null, \"status\": \"Completed\", \"run_type\": \"azureml.scriptrun\", \"training_percent\": \"100\", \"start_time\": \"2021-02-03T10:08:02.72704Z\", \"end_time\": \"2021-02-03T10:09:22.491849Z\", \"created_time\": \"2021-02-03T10:07:47.600313Z\", \"created_time_dt\": \"2021-02-03T10:07:47.600313Z\", \"duration\": \"0:01:34\", \"iteration\": \"18\", \"goal\": \"accuracy_max\", \"run_name\": \"StandardScalerWrapper, LogisticRegression\", \"run_properties\": \"<azureml.automl.runtime.shared.model_wrappers.StandardScalerWrapper object at 0x7f244004a9b0\", \"primary_metric\": 0.72472202, \"best_metric\": 0.9996686}, {\"run_id\": \"AutoML_504cb5fa-cd54-4ce5-a418-95cf7d6c6e96_19\", \"run_number\": 24, \"metric\": null, \"status\": \"Completed\", \"run_type\": \"azureml.scriptrun\", \"training_percent\": \"100\", \"start_time\": \"2021-02-03T10:08:06.981485Z\", \"end_time\": \"2021-02-03T10:09:22.636889Z\", \"created_time\": \"2021-02-03T10:07:52.058567Z\", \"created_time_dt\": \"2021-02-03T10:07:52.058567Z\", \"duration\": \"0:01:30\", \"iteration\": \"19\", \"goal\": \"accuracy_max\", \"run_name\": \"MinMaxScaler, LightGBM\", \"run_properties\": \"copy=True, feature_range=(0, 1\", \"primary_metric\": 0.76029139, \"best_metric\": 0.9996686}, {\"run_id\": \"AutoML_504cb5fa-cd54-4ce5-a418-95cf7d6c6e96_20\", \"run_number\": 25, \"metric\": null, \"status\": \"Completed\", \"run_type\": \"azureml.scriptrun\", \"training_percent\": \"100\", \"start_time\": \"2021-02-03T10:08:40.909088Z\", \"end_time\": \"2021-02-03T10:10:19.103309Z\", \"created_time\": \"2021-02-03T10:08:25.686853Z\", \"created_time_dt\": \"2021-02-03T10:08:25.686853Z\", \"duration\": \"0:01:53\", \"iteration\": \"20\", \"goal\": \"accuracy_max\", \"run_name\": \"MaxAbsScaler, LightGBM\", \"run_properties\": \"copy=True\", \"primary_metric\": 0.89454305, \"best_metric\": 0.9996686}, {\"run_id\": \"AutoML_504cb5fa-cd54-4ce5-a418-95cf7d6c6e96_21\", \"run_number\": 26, \"metric\": null, \"status\": \"Completed\", \"run_type\": \"azureml.scriptrun\", \"training_percent\": \"100\", \"start_time\": \"2021-02-03T10:08:47.881059Z\", \"end_time\": \"2021-02-03T10:11:08.762937Z\", \"created_time\": \"2021-02-03T10:08:34.948179Z\", \"created_time_dt\": \"2021-02-03T10:08:34.948179Z\", \"duration\": \"0:02:33\", \"iteration\": \"21\", \"goal\": \"accuracy_max\", \"run_name\": \"SparseNormalizer, XGBoostClassifier\", \"run_properties\": \"<azureml.automl.runtime.shared.model_wrappers.SparseNormalizer object at 0x7f0041a5f588\", \"primary_metric\": 0.72954577, \"best_metric\": 0.9996686}, {\"run_id\": \"AutoML_504cb5fa-cd54-4ce5-a418-95cf7d6c6e96_22\", \"run_number\": 27, \"metric\": null, \"status\": \"Completed\", \"run_type\": \"azureml.scriptrun\", \"training_percent\": \"100\", \"start_time\": \"2021-02-03T10:08:47.749152Z\", \"end_time\": \"2021-02-03T10:11:10.260377Z\", \"created_time\": \"2021-02-03T10:08:35.109311Z\", \"created_time_dt\": \"2021-02-03T10:08:35.109311Z\", \"duration\": \"0:02:35\", \"iteration\": \"22\", \"goal\": \"accuracy_max\", \"run_name\": \"MaxAbsScaler, LightGBM\", \"run_properties\": \"copy=True\", \"primary_metric\": 0.98365113, \"best_metric\": 0.9996686}, {\"run_id\": \"AutoML_504cb5fa-cd54-4ce5-a418-95cf7d6c6e96_23\", \"run_number\": 28, \"metric\": null, \"status\": \"Completed\", \"run_type\": \"azureml.scriptrun\", \"training_percent\": \"100\", \"start_time\": \"2021-02-03T10:09:36.887302Z\", \"end_time\": \"2021-02-03T10:11:14.828554Z\", \"created_time\": \"2021-02-03T10:09:24.955678Z\", \"created_time_dt\": \"2021-02-03T10:09:24.955678Z\", \"duration\": \"0:01:49\", \"iteration\": \"23\", \"goal\": \"accuracy_max\", \"run_name\": \"SparseNormalizer, XGBoostClassifier\", \"run_properties\": \"<azureml.automl.runtime.shared.model_wrappers.SparseNormalizer object at 0x7f0f63bcceb8\", \"primary_metric\": 0.76253885, \"best_metric\": 0.9996686}, {\"run_id\": \"AutoML_504cb5fa-cd54-4ce5-a418-95cf7d6c6e96_24\", \"run_number\": 29, \"metric\": null, \"status\": \"Completed\", \"run_type\": \"azureml.scriptrun\", \"training_percent\": \"100\", \"start_time\": \"2021-02-03T10:09:36.864098Z\", \"end_time\": \"2021-02-03T10:11:07.322951Z\", \"created_time\": \"2021-02-03T10:09:25.081858Z\", \"created_time_dt\": \"2021-02-03T10:09:25.081858Z\", \"duration\": \"0:01:42\", \"iteration\": \"24\", \"goal\": \"accuracy_max\", \"run_name\": \"StandardScalerWrapper, RandomForest\", \"run_properties\": \"<azureml.automl.runtime.shared.model_wrappers.StandardScalerWrapper object at 0x7fe7d8a0eb38\", \"primary_metric\": 0.80480914, \"best_metric\": 0.9996686}, {\"run_id\": \"AutoML_504cb5fa-cd54-4ce5-a418-95cf7d6c6e96_25\", \"run_number\": 30, \"metric\": null, \"status\": \"Completed\", \"run_type\": \"azureml.scriptrun\", \"training_percent\": \"100\", \"start_time\": \"2021-02-03T10:10:36.015871Z\", \"end_time\": \"2021-02-03T10:11:45.035284Z\", \"created_time\": \"2021-02-03T10:10:22.612165Z\", \"created_time_dt\": \"2021-02-03T10:10:22.612165Z\", \"duration\": \"0:01:22\", \"iteration\": \"25\", \"goal\": \"accuracy_max\", \"run_name\": \"StandardScalerWrapper, LightGBM\", \"run_properties\": \"<azureml.automl.runtime.shared.model_wrappers.StandardScalerWrapper object at 0x7fea8604c1d0\", \"primary_metric\": 0.71721024, \"best_metric\": 0.9996686}, {\"run_id\": \"AutoML_504cb5fa-cd54-4ce5-a418-95cf7d6c6e96_26\", \"run_number\": 31, \"metric\": null, \"status\": \"Completed\", \"run_type\": \"azureml.scriptrun\", \"training_percent\": \"100\", \"start_time\": \"2021-02-03T10:11:24.219819Z\", \"end_time\": \"2021-02-03T10:12:48.261725Z\", \"created_time\": \"2021-02-03T10:11:10.075752Z\", \"created_time_dt\": \"2021-02-03T10:11:10.075752Z\", \"duration\": \"0:01:38\", \"iteration\": \"26\", \"goal\": \"accuracy_max\", \"run_name\": \"SparseNormalizer, LightGBM\", \"run_properties\": \"<azureml.automl.runtime.shared.model_wrappers.SparseNormalizer object at 0x7f3508fc35c0\", \"primary_metric\": 0.71713658, \"best_metric\": 0.9996686}, {\"run_id\": \"AutoML_504cb5fa-cd54-4ce5-a418-95cf7d6c6e96_27\", \"run_number\": 32, \"metric\": null, \"status\": \"Completed\", \"run_type\": \"azureml.scriptrun\", \"training_percent\": \"100\", \"start_time\": \"2021-02-03T10:11:29.031599Z\", \"end_time\": \"2021-02-03T10:12:50.516436Z\", \"created_time\": \"2021-02-03T10:11:15.819543Z\", \"created_time_dt\": \"2021-02-03T10:11:15.819543Z\", \"duration\": \"0:01:34\", \"iteration\": \"27\", \"goal\": \"accuracy_max\", \"run_name\": \"MinMaxScaler, LightGBM\", \"run_properties\": \"copy=True, feature_range=(0, 1\", \"primary_metric\": 0.77211123, \"best_metric\": 0.9996686}, {\"run_id\": \"AutoML_504cb5fa-cd54-4ce5-a418-95cf7d6c6e96_28\", \"run_number\": 33, \"metric\": null, \"status\": \"Completed\", \"run_type\": \"azureml.scriptrun\", \"training_percent\": \"100\", \"start_time\": \"2021-02-03T10:11:30.621349Z\", \"end_time\": \"2021-02-03T10:13:26.376554Z\", \"created_time\": \"2021-02-03T10:11:15.916173Z\", \"created_time_dt\": \"2021-02-03T10:11:15.916173Z\", \"duration\": \"0:02:10\", \"iteration\": \"28\", \"goal\": \"accuracy_max\", \"run_name\": \"MinMaxScaler, LightGBM\", \"run_properties\": \"copy=True, feature_range=(0, 1\", \"primary_metric\": 0.79413122, \"best_metric\": 0.9996686}, {\"run_id\": \"AutoML_504cb5fa-cd54-4ce5-a418-95cf7d6c6e96_29\", \"run_number\": 34, \"metric\": null, \"status\": \"Completed\", \"run_type\": \"azureml.scriptrun\", \"training_percent\": \"100\", \"start_time\": \"2021-02-03T10:11:34.811837Z\", \"end_time\": \"2021-02-03T10:12:57.250885Z\", \"created_time\": \"2021-02-03T10:11:22.996338Z\", \"created_time_dt\": \"2021-02-03T10:11:22.996338Z\", \"duration\": \"0:01:34\", \"iteration\": \"29\", \"goal\": \"accuracy_max\", \"run_name\": \"StandardScalerWrapper, ExtremeRandomTrees\", \"run_properties\": \"<azureml.automl.runtime.shared.model_wrappers.StandardScalerWrapper object at 0x7efc24136f60\", \"primary_metric\": 0.64603462, \"best_metric\": 0.9996686}, {\"run_id\": \"AutoML_504cb5fa-cd54-4ce5-a418-95cf7d6c6e96_30\", \"run_number\": 35, \"metric\": null, \"status\": \"Completed\", \"run_type\": \"azureml.scriptrun\", \"training_percent\": \"100\", \"start_time\": \"2021-02-03T10:12:05.016603Z\", \"end_time\": \"2021-02-03T10:13:26.958253Z\", \"created_time\": \"2021-02-03T10:11:51.63951Z\", \"created_time_dt\": \"2021-02-03T10:11:51.63951Z\", \"duration\": \"0:01:35\", \"iteration\": \"30\", \"goal\": \"accuracy_max\", \"run_name\": \"PCA, LightGBM\", \"run_properties\": \"copy=True, iterated_power='auto', n_components=0.3563157894736842,\\n    random_state=None, svd_solver='auto', tol=0.0, whiten=True\", \"primary_metric\": 0.71721024, \"best_metric\": 0.9996686}, {\"run_id\": \"AutoML_504cb5fa-cd54-4ce5-a418-95cf7d6c6e96_31\", \"run_number\": 36, \"metric\": null, \"status\": \"Completed\", \"run_type\": \"azureml.scriptrun\", \"training_percent\": \"100\", \"start_time\": \"2021-02-03T10:13:03.043597Z\", \"end_time\": \"2021-02-03T10:14:12.529097Z\", \"created_time\": \"2021-02-03T10:12:51.435626Z\", \"created_time_dt\": \"2021-02-03T10:12:51.435626Z\", \"duration\": \"0:01:21\", \"iteration\": \"31\", \"goal\": \"accuracy_max\", \"run_name\": \"StandardScalerWrapper, LightGBM\", \"run_properties\": \"<azureml.automl.runtime.shared.model_wrappers.StandardScalerWrapper object at 0x7f53956aba20\", \"primary_metric\": 0.74950286, \"best_metric\": 0.9996686}, {\"run_id\": \"AutoML_504cb5fa-cd54-4ce5-a418-95cf7d6c6e96_32\", \"run_number\": 37, \"metric\": null, \"status\": \"Completed\", \"run_type\": \"azureml.scriptrun\", \"training_percent\": \"100\", \"start_time\": \"2021-02-03T10:13:13.824796Z\", \"end_time\": \"2021-02-03T10:15:04.323887Z\", \"created_time\": \"2021-02-03T10:12:57.118913Z\", \"created_time_dt\": \"2021-02-03T10:12:57.118913Z\", \"duration\": \"0:02:07\", \"iteration\": \"32\", \"goal\": \"accuracy_max\", \"run_name\": \"RobustScaler, LightGBM\", \"run_properties\": \"copy=True, quantile_range=[10, 90], with_centering=False,\\n             with_scaling=False\", \"primary_metric\": 0.80771836, \"best_metric\": 0.9996686}, {\"run_id\": \"AutoML_504cb5fa-cd54-4ce5-a418-95cf7d6c6e96_33\", \"run_number\": 38, \"metric\": null, \"status\": \"Completed\", \"run_type\": \"azureml.scriptrun\", \"training_percent\": \"100\", \"start_time\": \"2021-02-03T10:13:16.049224Z\", \"end_time\": \"2021-02-03T10:14:28.86402Z\", \"created_time\": \"2021-02-03T10:13:06.060326Z\", \"created_time_dt\": \"2021-02-03T10:13:06.060326Z\", \"duration\": \"0:01:22\", \"iteration\": \"33\", \"goal\": \"accuracy_max\", \"run_name\": \"MinMaxScaler, LightGBM\", \"run_properties\": \"copy=True, feature_range=(0, 1\", \"primary_metric\": 0.78746543, \"best_metric\": 0.9996686}, {\"run_id\": \"AutoML_504cb5fa-cd54-4ce5-a418-95cf7d6c6e96_34\", \"run_number\": 39, \"metric\": null, \"status\": \"Completed\", \"run_type\": \"azureml.scriptrun\", \"training_percent\": \"100\", \"start_time\": \"2021-02-03T10:13:40.708956Z\", \"end_time\": \"2021-02-03T10:15:01.861838Z\", \"created_time\": \"2021-02-03T10:13:28.899934Z\", \"created_time_dt\": \"2021-02-03T10:13:28.899934Z\", \"duration\": \"0:01:32\", \"iteration\": \"34\", \"goal\": \"accuracy_max\", \"run_name\": \"SparseNormalizer, LightGBM\", \"run_properties\": \"<azureml.automl.runtime.shared.model_wrappers.SparseNormalizer object at 0x7f051074d198\", \"primary_metric\": 0.71721024, \"best_metric\": 0.9996686}, {\"run_id\": \"AutoML_504cb5fa-cd54-4ce5-a418-95cf7d6c6e96_35\", \"run_number\": 40, \"metric\": null, \"status\": \"Canceled\", \"run_type\": \"azureml.scriptrun\", \"training_percent\": \"100\", \"start_time\": \"2021-02-03T10:13:46.70869Z\", \"end_time\": \"2021-02-03T10:15:05.32534Z\", \"created_time\": \"2021-02-03T10:13:34.965037Z\", \"created_time_dt\": \"2021-02-03T10:13:34.965037Z\", \"duration\": \"0:01:30\", \"iteration\": \"35\", \"goal\": \"accuracy_max\", \"run_name\": \"StandardScalerWrapper, LightGBM\", \"run_properties\": \"<azureml.automl.runtime.shared.model_wrappers.StandardScalerWrapper object at 0x7fb311f642b0\", \"primary_metric\": 0.768098, \"best_metric\": 0.9996686}, {\"run_id\": \"AutoML_504cb5fa-cd54-4ce5-a418-95cf7d6c6e96_36\", \"run_number\": 41, \"metric\": null, \"status\": \"Canceled\", \"run_type\": \"azureml.scriptrun\", \"training_percent\": \"100\", \"start_time\": \"2021-02-03T10:14:26.604804Z\", \"end_time\": \"2021-02-03T10:15:12.718748Z\", \"created_time\": \"2021-02-03T10:14:14.946843Z\", \"created_time_dt\": \"2021-02-03T10:14:14.946843Z\", \"duration\": \"0:00:57\", \"iteration\": \"36\", \"goal\": null, \"run_name\": \"StandardScalerWrapper, LightGBM\", \"run_properties\": null}, {\"run_id\": \"AutoML_504cb5fa-cd54-4ce5-a418-95cf7d6c6e96_37\", \"run_number\": 42, \"metric\": null, \"status\": \"Canceled\", \"run_type\": \"azureml.scriptrun\", \"training_percent\": \"100\", \"start_time\": \"2021-02-03T10:14:43.686786Z\", \"end_time\": \"2021-02-03T10:15:11.342771Z\", \"created_time\": \"2021-02-03T10:14:31.218569Z\", \"created_time_dt\": \"2021-02-03T10:14:31.218569Z\", \"duration\": \"0:00:40\", \"iteration\": \"37\", \"goal\": null, \"run_name\": \"StandardScalerWrapper, GradientBoosting\", \"run_properties\": null}, {\"run_id\": \"AutoML_504cb5fa-cd54-4ce5-a418-95cf7d6c6e96_38\", \"run_number\": 43, \"metric\": null, \"status\": \"Completed\", \"run_type\": \"azureml.scriptrun\", \"training_percent\": \"100\", \"start_time\": \"2021-02-03T10:15:25.15103Z\", \"end_time\": \"2021-02-03T10:17:56.201285Z\", \"created_time\": \"2021-02-03T10:15:14.765162Z\", \"created_time_dt\": \"2021-02-03T10:15:14.765162Z\", \"duration\": \"0:02:41\", \"iteration\": \"38\", \"goal\": \"accuracy_max\", \"run_name\": \"VotingEnsemble\", \"run_properties\": \"classification_labels=None,\\n                              estimators=[('0',\\n                                           Pipeline(memory=None,\\n                                                    steps=[('maxabsscaler',\\n                                                            MaxAbsScaler(copy=True\", \"primary_metric\": 0.99977906, \"best_metric\": 0.99977906}, {\"run_id\": \"AutoML_504cb5fa-cd54-4ce5-a418-95cf7d6c6e96_39\", \"run_number\": 44, \"metric\": null, \"status\": \"Completed\", \"run_type\": \"azureml.scriptrun\", \"training_percent\": \"100\", \"start_time\": \"2021-02-03T10:15:28.062572Z\", \"end_time\": \"2021-02-03T10:19:36.461342Z\", \"created_time\": \"2021-02-03T10:15:14.919043Z\", \"created_time_dt\": \"2021-02-03T10:15:14.919043Z\", \"duration\": \"0:04:21\", \"iteration\": \"39\", \"goal\": \"accuracy_max\", \"run_name\": \"StackEnsemble\", \"run_properties\": \"base_learners=[('0',\\n                                        Pipeline(memory=None,\\n                                                 steps=[('maxabsscaler',\\n                                                         MaxAbsScaler(copy=True\", \"primary_metric\": 0.9996686, \"best_metric\": 0.99977906}], \"children_metrics\": {\"categories\": [0], \"series\": {\"recall_score_weighted\": [{\"categories\": [\"0\", \"1\", \"2\", \"3\", \"4\", \"5\", \"6\", \"7\", \"8\", \"9\", \"10\", \"11\", \"12\", \"13\", \"14\", \"15\", \"16\", \"17\", \"18\", \"19\", \"20\", \"21\", \"22\", \"23\", \"24\", \"25\", \"26\", \"27\", \"28\", \"29\", \"30\", \"31\", \"32\", \"33\", \"34\", \"35\", \"38\", \"39\"], \"mode\": \"markers\", \"name\": \"recall_score_weighted\", \"stepped\": false, \"type\": \"scatter\", \"data\": [0.9996686032161911, 0.8737755257026774, 0.8055829041191005, 0.7665140345595434, 0.7979242847107517, 0.7502391937010607, 0.7490242122935636, 0.7659622399965282, 0.7582667203693005, 0.7349216700976683, 0.7632376178813497, 0.7181676688446068, 0.7172102430993472, 0.801090339764088, 0.7187568382709923, 0.7246851886508435, 0.7247220210633665, 0.7243906107182864, 0.7247220210633665, 0.7602913910338299, 0.8945430529676128, 0.7295457652218489, 0.9836511281621496, 0.7625388462612932, 0.8048091386694223, 0.7172102430993472, 0.7171365782743011, 0.772111232258467, 0.7941312242844396, 0.6460346165008123, 0.7172102430993472, 0.7495028573598375, 0.8077183568078938, 0.7874654255391283, 0.7172102430993472, 0.7680980045945586, 0.9997790597699465, 0.9996686032161911]}, {\"categories\": [\"0\", \"1\", \"2\", \"3\", \"4\", \"5\", \"6\", \"7\", \"8\", \"9\", \"10\", \"11\", \"12\", \"13\", \"14\", \"15\", \"16\", \"17\", \"18\", \"19\", \"20\", \"21\", \"22\", \"23\", \"24\", \"25\", \"26\", \"27\", \"28\", \"29\", \"30\", \"31\", \"32\", \"33\", \"34\", \"35\", \"38\", \"39\"], \"mode\": \"lines\", \"name\": \"recall_score_weighted_max\", \"stepped\": true, \"type\": \"scatter\", \"data\": [0.9996686032161911, 0.9996686032161911, 0.9996686032161911, 0.9996686032161911, 0.9996686032161911, 0.9996686032161911, 0.9996686032161911, 0.9996686032161911, 0.9996686032161911, 0.9996686032161911, 0.9996686032161911, 0.9996686032161911, 0.9996686032161911, 0.9996686032161911, 0.9996686032161911, 0.9996686032161911, 0.9996686032161911, 0.9996686032161911, 0.9996686032161911, 0.9996686032161911, 0.9996686032161911, 0.9996686032161911, 0.9996686032161911, 0.9996686032161911, 0.9996686032161911, 0.9996686032161911, 0.9996686032161911, 0.9996686032161911, 0.9996686032161911, 0.9996686032161911, 0.9996686032161911, 0.9996686032161911, 0.9996686032161911, 0.9996686032161911, 0.9996686032161911, 0.9996686032161911, 0.9997790597699465, 0.9997790597699465]}], \"average_precision_score_micro\": [{\"categories\": [\"0\", \"1\", \"2\", \"3\", \"4\", \"5\", \"6\", \"7\", \"8\", \"9\", \"10\", \"11\", \"12\", \"13\", \"14\", \"15\", \"16\", \"17\", \"18\", \"19\", \"20\", \"21\", \"22\", \"23\", \"24\", \"25\", \"26\", \"27\", \"28\", \"29\", \"30\", \"31\", \"32\", \"33\", \"34\", \"35\", \"38\", \"39\"], \"mode\": \"markers\", \"name\": \"average_precision_score_micro\", \"stepped\": false, \"type\": \"scatter\", \"data\": [0.9997643390587347, 0.9594607682055626, 0.8956410664415067, 0.8643683415197854, 0.9139615686477214, 0.8653344800163266, 0.8633610275198678, 0.8810664185916478, 0.8714136929625426, 0.8454654213097307, 0.8612154069262496, 0.8190276605614505, 0.7996414133506283, 0.8909296432535067, 0.8333899970380726, 0.8335977129984965, 0.8335995366060436, 0.8335737418712903, 0.8335988534937926, 0.8714201163851045, 0.9695222826222796, 0.8386745748647071, 0.9984863697210713, 0.8754856429334487, 0.8873278753840376, 0.8531608172449022, 0.8222598391771963, 0.889879047787085, 0.8852564890745528, 0.7608073702752935, 0.6585098088111755, 0.8462920792361613, 0.8960451319744868, 0.9281563360842788, 0.821202014414537, 0.8630523607070515, 0.9997427104307498, 0.9997863702941749]}, {\"categories\": [\"0\", \"1\", \"2\", \"3\", \"4\", \"5\", \"6\", \"7\", \"8\", \"9\", \"10\", \"11\", \"12\", \"13\", \"14\", \"15\", \"16\", \"17\", \"18\", \"19\", \"20\", \"21\", \"22\", \"23\", \"24\", \"25\", \"26\", \"27\", \"28\", \"29\", \"30\", \"31\", \"32\", \"33\", \"34\", \"35\", \"38\", \"39\"], \"mode\": \"lines\", \"name\": \"average_precision_score_micro_max\", \"stepped\": true, \"type\": \"scatter\", \"data\": [0.9997643390587347, 0.9997643390587347, 0.9997643390587347, 0.9997643390587347, 0.9997643390587347, 0.9997643390587347, 0.9997643390587347, 0.9997643390587347, 0.9997643390587347, 0.9997643390587347, 0.9997643390587347, 0.9997643390587347, 0.9997643390587347, 0.9997643390587347, 0.9997643390587347, 0.9997643390587347, 0.9997643390587347, 0.9997643390587347, 0.9997643390587347, 0.9997643390587347, 0.9997643390587347, 0.9997643390587347, 0.9997643390587347, 0.9997643390587347, 0.9997643390587347, 0.9997643390587347, 0.9997643390587347, 0.9997643390587347, 0.9997643390587347, 0.9997643390587347, 0.9997643390587347, 0.9997643390587347, 0.9997643390587347, 0.9997643390587347, 0.9997643390587347, 0.9997643390587347, 0.9997643390587347, 0.9997863702941749]}], \"f1_score_macro\": [{\"categories\": [\"0\", \"1\", \"2\", \"3\", \"4\", \"5\", \"6\", \"7\", \"8\", \"9\", \"10\", \"11\", \"12\", \"13\", \"14\", \"15\", \"16\", \"17\", \"18\", \"19\", \"20\", \"21\", \"22\", \"23\", \"24\", \"25\", \"26\", \"27\", \"28\", \"29\", \"30\", \"31\", \"32\", \"33\", \"34\", \"35\", \"38\", \"39\"], \"mode\": \"markers\", \"name\": \"f1_score_macro\", \"stepped\": false, \"type\": \"scatter\", \"data\": [0.9995926050474218, 0.8243935960054987, 0.7151286126306514, 0.6283396362566195, 0.7815320810139985, 0.6246517783039556, 0.6021278310791657, 0.6424796620023485, 0.6326200555865518, 0.5359878211376871, 0.6458828785306254, 0.5093195661805392, 0.41764137266154044, 0.6950186054348483, 0.5041637191269692, 0.5468341832022041, 0.5469259486426875, 0.5456657515607026, 0.5469259486426875, 0.567130701626356, 0.8591492179089254, 0.5169808089244624, 0.9797611131575877, 0.643353076441146, 0.7250410095690467, 0.41764137266154044, 0.417746226902143, 0.5986067875000659, 0.7124954805800232, 0.6358524929193379, 0.41764137266154044, 0.5752977520034828, 0.7328397218564477, 0.6343692541051247, 0.41764137266154044, 0.6646270608768864, 0.9997281910606806, 0.9995926050474218]}, {\"categories\": [\"0\", \"1\", \"2\", \"3\", \"4\", \"5\", \"6\", \"7\", \"8\", \"9\", \"10\", \"11\", \"12\", \"13\", \"14\", \"15\", \"16\", \"17\", \"18\", \"19\", \"20\", \"21\", \"22\", \"23\", \"24\", \"25\", \"26\", \"27\", \"28\", \"29\", \"30\", \"31\", \"32\", \"33\", \"34\", \"35\", \"38\", \"39\"], \"mode\": \"lines\", \"name\": \"f1_score_macro_max\", \"stepped\": true, \"type\": \"scatter\", \"data\": [0.9995926050474218, 0.9995926050474218, 0.9995926050474218, 0.9995926050474218, 0.9995926050474218, 0.9995926050474218, 0.9995926050474218, 0.9995926050474218, 0.9995926050474218, 0.9995926050474218, 0.9995926050474218, 0.9995926050474218, 0.9995926050474218, 0.9995926050474218, 0.9995926050474218, 0.9995926050474218, 0.9995926050474218, 0.9995926050474218, 0.9995926050474218, 0.9995926050474218, 0.9995926050474218, 0.9995926050474218, 0.9995926050474218, 0.9995926050474218, 0.9995926050474218, 0.9995926050474218, 0.9995926050474218, 0.9995926050474218, 0.9995926050474218, 0.9995926050474218, 0.9995926050474218, 0.9995926050474218, 0.9995926050474218, 0.9995926050474218, 0.9995926050474218, 0.9995926050474218, 0.9997281910606806, 0.9997281910606806]}], \"accuracy\": [{\"categories\": [\"0\", \"1\", \"2\", \"3\", \"4\", \"5\", \"6\", \"7\", \"8\", \"9\", \"10\", \"11\", \"12\", \"13\", \"14\", \"15\", \"16\", \"17\", \"18\", \"19\", \"20\", \"21\", \"22\", \"23\", \"24\", \"25\", \"26\", \"27\", \"28\", \"29\", \"30\", \"31\", \"32\", \"33\", \"34\", \"35\", \"38\", \"39\"], \"mode\": \"markers\", \"name\": \"accuracy\", \"stepped\": false, \"type\": \"scatter\", \"data\": [0.9996686032161911, 0.8737755257026774, 0.8055829041191005, 0.7665140345595434, 0.7979242847107517, 0.7502391937010607, 0.7490242122935636, 0.7659622399965282, 0.7582667203693005, 0.7349216700976683, 0.7632376178813497, 0.7181676688446068, 0.7172102430993472, 0.801090339764088, 0.7187568382709923, 0.7246851886508435, 0.7247220210633665, 0.7243906107182864, 0.7247220210633665, 0.7602913910338299, 0.8945430529676128, 0.7295457652218489, 0.9836511281621496, 0.7625388462612932, 0.8048091386694223, 0.7172102430993472, 0.7171365782743011, 0.772111232258467, 0.7941312242844396, 0.6460346165008123, 0.7172102430993472, 0.7495028573598375, 0.8077183568078938, 0.7874654255391283, 0.7172102430993472, 0.7680980045945586, 0.9997790597699465, 0.9996686032161911]}, {\"categories\": [\"0\", \"1\", \"2\", \"3\", \"4\", \"5\", \"6\", \"7\", \"8\", \"9\", \"10\", \"11\", \"12\", \"13\", \"14\", \"15\", \"16\", \"17\", \"18\", \"19\", \"20\", \"21\", \"22\", \"23\", \"24\", \"25\", \"26\", \"27\", \"28\", \"29\", \"30\", \"31\", \"32\", \"33\", \"34\", \"35\", \"38\", \"39\"], \"mode\": \"lines\", \"name\": \"accuracy_max\", \"stepped\": true, \"type\": \"scatter\", \"data\": [0.9996686032161911, 0.9996686032161911, 0.9996686032161911, 0.9996686032161911, 0.9996686032161911, 0.9996686032161911, 0.9996686032161911, 0.9996686032161911, 0.9996686032161911, 0.9996686032161911, 0.9996686032161911, 0.9996686032161911, 0.9996686032161911, 0.9996686032161911, 0.9996686032161911, 0.9996686032161911, 0.9996686032161911, 0.9996686032161911, 0.9996686032161911, 0.9996686032161911, 0.9996686032161911, 0.9996686032161911, 0.9996686032161911, 0.9996686032161911, 0.9996686032161911, 0.9996686032161911, 0.9996686032161911, 0.9996686032161911, 0.9996686032161911, 0.9996686032161911, 0.9996686032161911, 0.9996686032161911, 0.9996686032161911, 0.9996686032161911, 0.9996686032161911, 0.9996686032161911, 0.9997790597699465, 0.9997790597699465]}], \"balanced_accuracy\": [{\"categories\": [\"0\", \"1\", \"2\", \"3\", \"4\", \"5\", \"6\", \"7\", \"8\", \"9\", \"10\", \"11\", \"12\", \"13\", \"14\", \"15\", \"16\", \"17\", \"18\", \"19\", \"20\", \"21\", \"22\", \"23\", \"24\", \"25\", \"26\", \"27\", \"28\", \"29\", \"30\", \"31\", \"32\", \"33\", \"34\", \"35\", \"38\", \"39\"], \"mode\": \"markers\", \"name\": \"balanced_accuracy\", \"stepped\": false, \"type\": \"scatter\", \"data\": [0.9995716980294475, 0.7932995219718851, 0.6914169342877261, 0.6196968576323665, 0.837134050002355, 0.6151204759032293, 0.5981998033834455, 0.6296176314213318, 0.6215821603898476, 0.5554420828233813, 0.6328705828348244, 0.5360308295622367, 0.5, 0.6721947947332392, 0.5338968972922771, 0.5579028382360471, 0.5579681977131713, 0.5571500311424049, 0.5579681977131713, 0.5796706763907268, 0.8347350879550669, 0.544226380526669, 0.9774227351910604, 0.6307930012724572, 0.7038186342115327, 0.5, 0.4999904942575548, 0.5998194935363965, 0.693734506351387, 0.7073204821442494, 0.5, 0.5810637605044177, 0.7122813297016453, 0.6243627660228842, 0.5, 0.6496958123066647, 0.9996109644048939, 0.9995716980294475]}, {\"categories\": [\"0\", \"1\", \"2\", \"3\", \"4\", \"5\", \"6\", \"7\", \"8\", \"9\", \"10\", \"11\", \"12\", \"13\", \"14\", \"15\", \"16\", \"17\", \"18\", \"19\", \"20\", \"21\", \"22\", \"23\", \"24\", \"25\", \"26\", \"27\", \"28\", \"29\", \"30\", \"31\", \"32\", \"33\", \"34\", \"35\", \"38\", \"39\"], \"mode\": \"lines\", \"name\": \"balanced_accuracy_max\", \"stepped\": true, \"type\": \"scatter\", \"data\": [0.9995716980294475, 0.9995716980294475, 0.9995716980294475, 0.9995716980294475, 0.9995716980294475, 0.9995716980294475, 0.9995716980294475, 0.9995716980294475, 0.9995716980294475, 0.9995716980294475, 0.9995716980294475, 0.9995716980294475, 0.9995716980294475, 0.9995716980294475, 0.9995716980294475, 0.9995716980294475, 0.9995716980294475, 0.9995716980294475, 0.9995716980294475, 0.9995716980294475, 0.9995716980294475, 0.9995716980294475, 0.9995716980294475, 0.9995716980294475, 0.9995716980294475, 0.9995716980294475, 0.9995716980294475, 0.9995716980294475, 0.9995716980294475, 0.9995716980294475, 0.9995716980294475, 0.9995716980294475, 0.9995716980294475, 0.9995716980294475, 0.9995716980294475, 0.9995716980294475, 0.9996109644048939, 0.9996109644048939]}], \"recall_score_micro\": [{\"categories\": [\"0\", \"1\", \"2\", \"3\", \"4\", \"5\", \"6\", \"7\", \"8\", \"9\", \"10\", \"11\", \"12\", \"13\", \"14\", \"15\", \"16\", \"17\", \"18\", \"19\", \"20\", \"21\", \"22\", \"23\", \"24\", \"25\", \"26\", \"27\", \"28\", \"29\", \"30\", \"31\", \"32\", \"33\", \"34\", \"35\", \"38\", \"39\"], \"mode\": \"markers\", \"name\": \"recall_score_micro\", \"stepped\": false, \"type\": \"scatter\", \"data\": [0.9996686032161911, 0.8737755257026774, 0.8055829041191005, 0.7665140345595434, 0.7979242847107517, 0.7502391937010607, 0.7490242122935636, 0.7659622399965282, 0.7582667203693005, 0.7349216700976683, 0.7632376178813497, 0.7181676688446068, 0.7172102430993472, 0.801090339764088, 0.7187568382709923, 0.7246851886508435, 0.7247220210633665, 0.7243906107182864, 0.7247220210633665, 0.7602913910338299, 0.8945430529676128, 0.7295457652218489, 0.9836511281621496, 0.7625388462612932, 0.8048091386694223, 0.7172102430993472, 0.7171365782743011, 0.772111232258467, 0.7941312242844396, 0.6460346165008123, 0.7172102430993472, 0.7495028573598375, 0.8077183568078938, 0.7874654255391283, 0.7172102430993472, 0.7680980045945586, 0.9997790597699465, 0.9996686032161911]}, {\"categories\": [\"0\", \"1\", \"2\", \"3\", \"4\", \"5\", \"6\", \"7\", \"8\", \"9\", \"10\", \"11\", \"12\", \"13\", \"14\", \"15\", \"16\", \"17\", \"18\", \"19\", \"20\", \"21\", \"22\", \"23\", \"24\", \"25\", \"26\", \"27\", \"28\", \"29\", \"30\", \"31\", \"32\", \"33\", \"34\", \"35\", \"38\", \"39\"], \"mode\": \"lines\", \"name\": \"recall_score_micro_max\", \"stepped\": true, \"type\": \"scatter\", \"data\": [0.9996686032161911, 0.9996686032161911, 0.9996686032161911, 0.9996686032161911, 0.9996686032161911, 0.9996686032161911, 0.9996686032161911, 0.9996686032161911, 0.9996686032161911, 0.9996686032161911, 0.9996686032161911, 0.9996686032161911, 0.9996686032161911, 0.9996686032161911, 0.9996686032161911, 0.9996686032161911, 0.9996686032161911, 0.9996686032161911, 0.9996686032161911, 0.9996686032161911, 0.9996686032161911, 0.9996686032161911, 0.9996686032161911, 0.9996686032161911, 0.9996686032161911, 0.9996686032161911, 0.9996686032161911, 0.9996686032161911, 0.9996686032161911, 0.9996686032161911, 0.9996686032161911, 0.9996686032161911, 0.9996686032161911, 0.9996686032161911, 0.9996686032161911, 0.9996686032161911, 0.9997790597699465, 0.9997790597699465]}], \"average_precision_score_weighted\": [{\"categories\": [\"0\", \"1\", \"2\", \"3\", \"4\", \"5\", \"6\", \"7\", \"8\", \"9\", \"10\", \"11\", \"12\", \"13\", \"14\", \"15\", \"16\", \"17\", \"18\", \"19\", \"20\", \"21\", \"22\", \"23\", \"24\", \"25\", \"26\", \"27\", \"28\", \"29\", \"30\", \"31\", \"32\", \"33\", \"34\", \"35\", \"38\", \"39\"], \"mode\": \"markers\", \"name\": \"average_precision_score_weighted\", \"stepped\": false, \"type\": \"scatter\", \"data\": [0.9997781643695726, 0.9612865573617242, 0.8847018825286247, 0.8445181924564839, 0.9467725260550306, 0.8306199191455207, 0.8319545187463373, 0.8566693721510912, 0.8430289396607659, 0.8059846144113527, 0.8332015165385602, 0.7643712651935608, 0.7384486847087037, 0.8854303781069726, 0.7828801180108939, 0.7822414229287533, 0.7822456878276991, 0.7822415590344518, 0.7822437899096522, 0.8712719736753904, 0.9702470523485257, 0.7953288337578253, 0.9982580888944028, 0.8481806985810707, 0.8714987071756015, 0.8326365093068008, 0.7668513151388354, 0.9020868055542446, 0.8645330590902981, 0.7941212015010437, 0.5885940362996378, 0.8190257196716709, 0.8802540700386482, 0.9734590316311866, 0.7682141756438886, 0.83656643725805, 0.9997985614740761, 0.9997944997342507]}, {\"categories\": [\"0\", \"1\", \"2\", \"3\", \"4\", \"5\", \"6\", \"7\", \"8\", \"9\", \"10\", \"11\", \"12\", \"13\", \"14\", \"15\", \"16\", \"17\", \"18\", \"19\", \"20\", \"21\", \"22\", \"23\", \"24\", \"25\", \"26\", \"27\", \"28\", \"29\", \"30\", \"31\", \"32\", \"33\", \"34\", \"35\", \"38\", \"39\"], \"mode\": \"lines\", \"name\": \"average_precision_score_weighted_max\", \"stepped\": true, \"type\": \"scatter\", \"data\": [0.9997781643695726, 0.9997781643695726, 0.9997781643695726, 0.9997781643695726, 0.9997781643695726, 0.9997781643695726, 0.9997781643695726, 0.9997781643695726, 0.9997781643695726, 0.9997781643695726, 0.9997781643695726, 0.9997781643695726, 0.9997781643695726, 0.9997781643695726, 0.9997781643695726, 0.9997781643695726, 0.9997781643695726, 0.9997781643695726, 0.9997781643695726, 0.9997781643695726, 0.9997781643695726, 0.9997781643695726, 0.9997781643695726, 0.9997781643695726, 0.9997781643695726, 0.9997781643695726, 0.9997781643695726, 0.9997781643695726, 0.9997781643695726, 0.9997781643695726, 0.9997781643695726, 0.9997781643695726, 0.9997781643695726, 0.9997781643695726, 0.9997781643695726, 0.9997781643695726, 0.9997985614740761, 0.9997985614740761]}], \"recall_score_macro\": [{\"categories\": [\"0\", \"1\", \"2\", \"3\", \"4\", \"5\", \"6\", \"7\", \"8\", \"9\", \"10\", \"11\", \"12\", \"13\", \"14\", \"15\", \"16\", \"17\", \"18\", \"19\", \"20\", \"21\", \"22\", \"23\", \"24\", \"25\", \"26\", \"27\", \"28\", \"29\", \"30\", \"31\", \"32\", \"33\", \"34\", \"35\", \"38\", \"39\"], \"mode\": \"markers\", \"name\": \"recall_score_macro\", \"stepped\": false, \"type\": \"scatter\", \"data\": [0.9995716980294475, 0.7932995219718851, 0.6914169342877261, 0.6196968576323665, 0.837134050002355, 0.6151204759032293, 0.5981998033834455, 0.6296176314213318, 0.6215821603898476, 0.5554420828233813, 0.6328705828348244, 0.5360308295622367, 0.5, 0.6721947947332392, 0.5338968972922771, 0.5579028382360471, 0.5579681977131713, 0.5571500311424049, 0.5579681977131713, 0.5796706763907268, 0.8347350879550669, 0.544226380526669, 0.9774227351910604, 0.6307930012724572, 0.7038186342115327, 0.5, 0.4999904942575548, 0.5998194935363965, 0.693734506351387, 0.7073204821442494, 0.5, 0.5810637605044177, 0.7122813297016453, 0.6243627660228842, 0.5, 0.6496958123066647, 0.9996109644048939, 0.9995716980294475]}, {\"categories\": [\"0\", \"1\", \"2\", \"3\", \"4\", \"5\", \"6\", \"7\", \"8\", \"9\", \"10\", \"11\", \"12\", \"13\", \"14\", \"15\", \"16\", \"17\", \"18\", \"19\", \"20\", \"21\", \"22\", \"23\", \"24\", \"25\", \"26\", \"27\", \"28\", \"29\", \"30\", \"31\", \"32\", \"33\", \"34\", \"35\", \"38\", \"39\"], \"mode\": \"lines\", \"name\": \"recall_score_macro_max\", \"stepped\": true, \"type\": \"scatter\", \"data\": [0.9995716980294475, 0.9995716980294475, 0.9995716980294475, 0.9995716980294475, 0.9995716980294475, 0.9995716980294475, 0.9995716980294475, 0.9995716980294475, 0.9995716980294475, 0.9995716980294475, 0.9995716980294475, 0.9995716980294475, 0.9995716980294475, 0.9995716980294475, 0.9995716980294475, 0.9995716980294475, 0.9995716980294475, 0.9995716980294475, 0.9995716980294475, 0.9995716980294475, 0.9995716980294475, 0.9995716980294475, 0.9995716980294475, 0.9995716980294475, 0.9995716980294475, 0.9995716980294475, 0.9995716980294475, 0.9995716980294475, 0.9995716980294475, 0.9995716980294475, 0.9995716980294475, 0.9995716980294475, 0.9995716980294475, 0.9995716980294475, 0.9995716980294475, 0.9995716980294475, 0.9996109644048939, 0.9996109644048939]}], \"precision_score_weighted\": [{\"categories\": [\"0\", \"1\", \"2\", \"3\", \"4\", \"5\", \"6\", \"7\", \"8\", \"9\", \"10\", \"11\", \"12\", \"13\", \"14\", \"15\", \"16\", \"17\", \"18\", \"19\", \"20\", \"21\", \"22\", \"23\", \"24\", \"25\", \"26\", \"27\", \"28\", \"29\", \"30\", \"31\", \"32\", \"33\", \"34\", \"35\", \"38\", \"39\"], \"mode\": \"markers\", \"name\": \"precision_score_weighted\", \"stepped\": false, \"type\": \"scatter\", \"data\": [0.9996689814157274, 0.8792601861914993, 0.8040118886642803, 0.7626806584676764, 0.8580877006620662, 0.7285824094013436, 0.7298697967230121, 0.7530061194949219, 0.7408132194494164, 0.7135759157844457, 0.7470264368295321, 0.6696851418807437, 0.514486246963616, 0.8068149586004989, 0.6704131932262283, 0.6865315423976107, 0.6866003315492628, 0.6859454908160394, 0.6866003315492628, 0.8043509739484058, 0.8960974825659053, 0.7025346314912803, 0.983660998513294, 0.7463310406625028, 0.7972998152916136, 0.514486246963616, 0.5421345185916598, 0.8171265074868812, 0.7839919857333045, 0.7720549291249152, 0.514486246963616, 0.7416978068973716, 0.7999853125170768, 0.8361727402988312, 0.514486246963616, 0.7530335312780214, 0.9997792113992109, 0.9996689814157274]}, {\"categories\": [\"0\", \"1\", \"2\", \"3\", \"4\", \"5\", \"6\", \"7\", \"8\", \"9\", \"10\", \"11\", \"12\", \"13\", \"14\", \"15\", \"16\", \"17\", \"18\", \"19\", \"20\", \"21\", \"22\", \"23\", \"24\", \"25\", \"26\", \"27\", \"28\", \"29\", \"30\", \"31\", \"32\", \"33\", \"34\", \"35\", \"38\", \"39\"], \"mode\": \"lines\", \"name\": \"precision_score_weighted_max\", \"stepped\": true, \"type\": \"scatter\", \"data\": [0.9996689814157274, 0.9996689814157274, 0.9996689814157274, 0.9996689814157274, 0.9996689814157274, 0.9996689814157274, 0.9996689814157274, 0.9996689814157274, 0.9996689814157274, 0.9996689814157274, 0.9996689814157274, 0.9996689814157274, 0.9996689814157274, 0.9996689814157274, 0.9996689814157274, 0.9996689814157274, 0.9996689814157274, 0.9996689814157274, 0.9996689814157274, 0.9996689814157274, 0.9996689814157274, 0.9996689814157274, 0.9996689814157274, 0.9996689814157274, 0.9996689814157274, 0.9996689814157274, 0.9996689814157274, 0.9996689814157274, 0.9996689814157274, 0.9996689814157274, 0.9996689814157274, 0.9996689814157274, 0.9996689814157274, 0.9996689814157274, 0.9996689814157274, 0.9996689814157274, 0.9997792113992109, 0.9997792113992109]}], \"weighted_accuracy\": [{\"categories\": [\"0\", \"1\", \"2\", \"3\", \"4\", \"5\", \"6\", \"7\", \"8\", \"9\", \"10\", \"11\", \"12\", \"13\", \"14\", \"15\", \"16\", \"17\", \"18\", \"19\", \"20\", \"21\", \"22\", \"23\", \"24\", \"25\", \"26\", \"27\", \"28\", \"29\", \"30\", \"31\", \"32\", \"33\", \"34\", \"35\", \"38\", \"39\"], \"mode\": \"markers\", \"name\": \"weighted_accuracy\", \"stepped\": false, \"type\": \"scatter\", \"data\": [0.9997345152703156, 0.9286644070660864, 0.8833252585691446, 0.8666980535080124, 0.7712941899885275, 0.8422801626571335, 0.8518612874070504, 0.858894362862468, 0.8513894063325222, 0.8572290688611599, 0.8520952291337146, 0.8422656309081693, 0.865174497624667, 0.8889520721459295, 0.8447496770644334, 0.8383100119184457, 0.8383274469217789, 0.8383302380938007, 0.8383274469217789, 0.883346842887822, 0.9353711795005735, 0.8558526977165638, 0.9878852036971217, 0.8523020302288055, 0.8735518380859512, 0.865174497624667, 0.8650583178922954, 0.8895000548306768, 0.8625502468014746, 0.6042655822163303, 0.865174497624667, 0.8642849618910068, 0.8727076350076297, 0.8986189404574143, 0.865174497624667, 0.8488206665622042, 0.9998942174962437, 0.9997345152703156]}, {\"categories\": [\"0\", \"1\", \"2\", \"3\", \"4\", \"5\", \"6\", \"7\", \"8\", \"9\", \"10\", \"11\", \"12\", \"13\", \"14\", \"15\", \"16\", \"17\", \"18\", \"19\", \"20\", \"21\", \"22\", \"23\", \"24\", \"25\", \"26\", \"27\", \"28\", \"29\", \"30\", \"31\", \"32\", \"33\", \"34\", \"35\", \"38\", \"39\"], \"mode\": \"lines\", \"name\": \"weighted_accuracy_max\", \"stepped\": true, \"type\": \"scatter\", \"data\": [0.9997345152703156, 0.9997345152703156, 0.9997345152703156, 0.9997345152703156, 0.9997345152703156, 0.9997345152703156, 0.9997345152703156, 0.9997345152703156, 0.9997345152703156, 0.9997345152703156, 0.9997345152703156, 0.9997345152703156, 0.9997345152703156, 0.9997345152703156, 0.9997345152703156, 0.9997345152703156, 0.9997345152703156, 0.9997345152703156, 0.9997345152703156, 0.9997345152703156, 0.9997345152703156, 0.9997345152703156, 0.9997345152703156, 0.9997345152703156, 0.9997345152703156, 0.9997345152703156, 0.9997345152703156, 0.9997345152703156, 0.9997345152703156, 0.9997345152703156, 0.9997345152703156, 0.9997345152703156, 0.9997345152703156, 0.9997345152703156, 0.9997345152703156, 0.9997345152703156, 0.9998942174962437, 0.9998942174962437]}], \"AUC_weighted\": [{\"categories\": [\"0\", \"1\", \"2\", \"3\", \"4\", \"5\", \"6\", \"7\", \"8\", \"9\", \"10\", \"11\", \"12\", \"13\", \"14\", \"15\", \"16\", \"17\", \"18\", \"19\", \"20\", \"21\", \"22\", \"23\", \"24\", \"25\", \"26\", \"27\", \"28\", \"29\", \"30\", \"31\", \"32\", \"33\", \"34\", \"35\", \"38\", \"39\"], \"mode\": \"markers\", \"name\": \"AUC_weighted\", \"stepped\": false, \"type\": \"scatter\", \"data\": [0.9997092411462459, 0.956785426970753, 0.8689849016265955, 0.8214158729818248, 0.9380146775974485, 0.8152158232813502, 0.81026798960641, 0.8416549896345193, 0.8231281657838144, 0.7794664716397642, 0.8105432697234527, 0.7369148337026175, 0.7064562650603126, 0.8683434144357447, 0.7612014923386288, 0.7622795759156341, 0.7622842938721557, 0.7621549957464632, 0.7622827967506363, 0.8475367102856225, 0.9693006781204494, 0.767282703883976, 0.998192565771506, 0.8316439317704999, 0.850956360073275, 0.8174069257892402, 0.7407250769339186, 0.8879452112663542, 0.8460274978404657, 0.7690082915384193, 0.4865001320007045, 0.7922980696912123, 0.8626634754589417, 0.9709885183274581, 0.7409600308103105, 0.814405837949363, 0.9997405840707959, 0.999727240580748]}, {\"categories\": [\"0\", \"1\", \"2\", \"3\", \"4\", \"5\", \"6\", \"7\", \"8\", \"9\", \"10\", \"11\", \"12\", \"13\", \"14\", \"15\", \"16\", \"17\", \"18\", \"19\", \"20\", \"21\", \"22\", \"23\", \"24\", \"25\", \"26\", \"27\", \"28\", \"29\", \"30\", \"31\", \"32\", \"33\", \"34\", \"35\", \"38\", \"39\"], \"mode\": \"lines\", \"name\": \"AUC_weighted_max\", \"stepped\": true, \"type\": \"scatter\", \"data\": [0.9997092411462459, 0.9997092411462459, 0.9997092411462459, 0.9997092411462459, 0.9997092411462459, 0.9997092411462459, 0.9997092411462459, 0.9997092411462459, 0.9997092411462459, 0.9997092411462459, 0.9997092411462459, 0.9997092411462459, 0.9997092411462459, 0.9997092411462459, 0.9997092411462459, 0.9997092411462459, 0.9997092411462459, 0.9997092411462459, 0.9997092411462459, 0.9997092411462459, 0.9997092411462459, 0.9997092411462459, 0.9997092411462459, 0.9997092411462459, 0.9997092411462459, 0.9997092411462459, 0.9997092411462459, 0.9997092411462459, 0.9997092411462459, 0.9997092411462459, 0.9997092411462459, 0.9997092411462459, 0.9997092411462459, 0.9997092411462459, 0.9997092411462459, 0.9997092411462459, 0.9997405840707959, 0.9997405840707959]}], \"matthews_correlation\": [{\"categories\": [\"0\", \"1\", \"2\", \"3\", \"4\", \"5\", \"6\", \"7\", \"8\", \"9\", \"10\", \"11\", \"12\", \"13\", \"14\", \"15\", \"16\", \"17\", \"18\", \"19\", \"20\", \"21\", \"22\", \"23\", \"24\", \"25\", \"26\", \"27\", \"28\", \"29\", \"30\", \"31\", \"32\", \"33\", \"34\", \"35\", \"38\", \"39\"], \"mode\": \"markers\", \"name\": \"matthews_correlation\", \"stepped\": false, \"type\": \"scatter\", \"data\": [0.9991856569357515, 0.6773367578419769, 0.47871867113763555, 0.3471653511593397, 0.6113327753447254, 0.2999454547217848, 0.2832136026910452, 0.3478163455929551, 0.32314917293606715, 0.20595658419819074, 0.34268988521634103, 0.13168794433823344, 0.0, 0.4641755542867466, 0.12876309854915596, 0.18159177674513027, 0.1817551511786533, 0.17991057878333747, 0.1817551511786533, 0.3306515076348989, 0.7319319373100173, 0.17620672106838337, 0.9596361460171368, 0.33956936800763116, 0.4786557484626516, 0.0, 0.0002728995602268518, 0.3788780980279632, 0.44965735191075806, 0.3754185112807712, 0.0, 0.2741922517055129, 0.4890983766349746, 0.43763808927679815, 0.0, 0.3661614522928538, 0.999456708922604, 0.9991856569357515]}, {\"categories\": [\"0\", \"1\", \"2\", \"3\", \"4\", \"5\", \"6\", \"7\", \"8\", \"9\", \"10\", \"11\", \"12\", \"13\", \"14\", \"15\", \"16\", \"17\", \"18\", \"19\", \"20\", \"21\", \"22\", \"23\", \"24\", \"25\", \"26\", \"27\", \"28\", \"29\", \"30\", \"31\", \"32\", \"33\", \"34\", \"35\", \"38\", \"39\"], \"mode\": \"lines\", \"name\": \"matthews_correlation_max\", \"stepped\": true, \"type\": \"scatter\", \"data\": [0.9991856569357515, 0.9991856569357515, 0.9991856569357515, 0.9991856569357515, 0.9991856569357515, 0.9991856569357515, 0.9991856569357515, 0.9991856569357515, 0.9991856569357515, 0.9991856569357515, 0.9991856569357515, 0.9991856569357515, 0.9991856569357515, 0.9991856569357515, 0.9991856569357515, 0.9991856569357515, 0.9991856569357515, 0.9991856569357515, 0.9991856569357515, 0.9991856569357515, 0.9991856569357515, 0.9991856569357515, 0.9991856569357515, 0.9991856569357515, 0.9991856569357515, 0.9991856569357515, 0.9991856569357515, 0.9991856569357515, 0.9991856569357515, 0.9991856569357515, 0.9991856569357515, 0.9991856569357515, 0.9991856569357515, 0.9991856569357515, 0.9991856569357515, 0.9991856569357515, 0.999456708922604, 0.999456708922604]}], \"average_precision_score_macro\": [{\"categories\": [\"0\", \"1\", \"2\", \"3\", \"4\", \"5\", \"6\", \"7\", \"8\", \"9\", \"10\", \"11\", \"12\", \"13\", \"14\", \"15\", \"16\", \"17\", \"18\", \"19\", \"20\", \"21\", \"22\", \"23\", \"24\", \"25\", \"26\", \"27\", \"28\", \"29\", \"30\", \"31\", \"32\", \"33\", \"34\", \"35\", \"38\", \"39\"], \"mode\": \"markers\", \"name\": \"average_precision_score_macro\", \"stepped\": false, \"type\": \"scatter\", \"data\": [0.9997674288717346, 0.9446195336386284, 0.8378828251901569, 0.7822527885971831, 0.9251563502225855, 0.7555078638966123, 0.7614534053138995, 0.7944892477761403, 0.776831414991083, 0.7262909589650379, 0.7662367756661315, 0.671563952631952, 0.641598815974803, 0.8392200207920159, 0.6918094413441924, 0.6903697199827177, 0.6903761558774151, 0.6903993839527992, 0.6903729938523328, 0.8213925023828619, 0.956435635137125, 0.7119078717611129, 0.9975257828516456, 0.7835493078625964, 0.8212557071059786, 0.7642132903074331, 0.6728787081621379, 0.8623723648110712, 0.8119117596740768, 0.7118395486389535, 0.49413122976207163, 0.7496742896515937, 0.8338716968843312, 0.9619758397413657, 0.6765729631809172, 0.7710033230463267, 0.9997808734944718, 0.9997755061318809]}, {\"categories\": [\"0\", \"1\", \"2\", \"3\", \"4\", \"5\", \"6\", \"7\", \"8\", \"9\", \"10\", \"11\", \"12\", \"13\", \"14\", \"15\", \"16\", \"17\", \"18\", \"19\", \"20\", \"21\", \"22\", \"23\", \"24\", \"25\", \"26\", \"27\", \"28\", \"29\", \"30\", \"31\", \"32\", \"33\", \"34\", \"35\", \"38\", \"39\"], \"mode\": \"lines\", \"name\": \"average_precision_score_macro_max\", \"stepped\": true, \"type\": \"scatter\", \"data\": [0.9997674288717346, 0.9997674288717346, 0.9997674288717346, 0.9997674288717346, 0.9997674288717346, 0.9997674288717346, 0.9997674288717346, 0.9997674288717346, 0.9997674288717346, 0.9997674288717346, 0.9997674288717346, 0.9997674288717346, 0.9997674288717346, 0.9997674288717346, 0.9997674288717346, 0.9997674288717346, 0.9997674288717346, 0.9997674288717346, 0.9997674288717346, 0.9997674288717346, 0.9997674288717346, 0.9997674288717346, 0.9997674288717346, 0.9997674288717346, 0.9997674288717346, 0.9997674288717346, 0.9997674288717346, 0.9997674288717346, 0.9997674288717346, 0.9997674288717346, 0.9997674288717346, 0.9997674288717346, 0.9997674288717346, 0.9997674288717346, 0.9997674288717346, 0.9997674288717346, 0.9997808734944718, 0.9997808734944718]}], \"norm_macro_recall\": [{\"categories\": [\"0\", \"1\", \"2\", \"3\", \"4\", \"5\", \"6\", \"7\", \"8\", \"9\", \"10\", \"11\", \"12\", \"13\", \"14\", \"15\", \"16\", \"17\", \"18\", \"19\", \"20\", \"21\", \"22\", \"23\", \"24\", \"25\", \"26\", \"27\", \"28\", \"29\", \"30\", \"31\", \"32\", \"33\", \"34\", \"35\", \"38\", \"39\"], \"mode\": \"markers\", \"name\": \"norm_macro_recall\", \"stepped\": false, \"type\": \"scatter\", \"data\": [0.9991433960588949, 0.5865990439437704, 0.3828338685754523, 0.23939371526473302, 0.6742681000047099, 0.2302409518064586, 0.196399606766891, 0.25923526284266346, 0.2431643207796952, 0.11088416564676247, 0.2657411656696487, 0.07206165912447351, 0.0, 0.3443895894664782, 0.06779379458455423, 0.11580567647209425, 0.11593639542634263, 0.11430006228480996, 0.11593639542634263, 0.15934135278145353, 0.6694701759101339, 0.08845276105333806, 0.9548454703821209, 0.2615860025449144, 0.4076372684230652, 0.0, 0.00013315579227697328, 0.19963898707279312, 0.3874690127027741, 0.4146409642884986, 0.0, 0.16212752100883523, 0.42456265940329063, 0.24872553204576847, 0.0, 0.2993916246133295, 0.999221928809788, 0.9991433960588949]}, {\"categories\": [\"0\", \"1\", \"2\", \"3\", \"4\", \"5\", \"6\", \"7\", \"8\", \"9\", \"10\", \"11\", \"12\", \"13\", \"14\", \"15\", \"16\", \"17\", \"18\", \"19\", \"20\", \"21\", \"22\", \"23\", \"24\", \"25\", \"26\", \"27\", \"28\", \"29\", \"30\", \"31\", \"32\", \"33\", \"34\", \"35\", \"38\", \"39\"], \"mode\": \"lines\", \"name\": \"norm_macro_recall_max\", \"stepped\": true, \"type\": \"scatter\", \"data\": [0.9991433960588949, 0.9991433960588949, 0.9991433960588949, 0.9991433960588949, 0.9991433960588949, 0.9991433960588949, 0.9991433960588949, 0.9991433960588949, 0.9991433960588949, 0.9991433960588949, 0.9991433960588949, 0.9991433960588949, 0.9991433960588949, 0.9991433960588949, 0.9991433960588949, 0.9991433960588949, 0.9991433960588949, 0.9991433960588949, 0.9991433960588949, 0.9991433960588949, 0.9991433960588949, 0.9991433960588949, 0.9991433960588949, 0.9991433960588949, 0.9991433960588949, 0.9991433960588949, 0.9991433960588949, 0.9991433960588949, 0.9991433960588949, 0.9991433960588949, 0.9991433960588949, 0.9991433960588949, 0.9991433960588949, 0.9991433960588949, 0.9991433960588949, 0.9991433960588949, 0.999221928809788, 0.999221928809788]}], \"AUC_macro\": [{\"categories\": [\"0\", \"1\", \"2\", \"3\", \"4\", \"5\", \"6\", \"7\", \"8\", \"9\", \"10\", \"11\", \"12\", \"13\", \"14\", \"15\", \"16\", \"17\", \"18\", \"19\", \"20\", \"21\", \"22\", \"23\", \"24\", \"25\", \"26\", \"27\", \"28\", \"29\", \"30\", \"31\", \"32\", \"33\", \"34\", \"35\", \"38\", \"39\"], \"mode\": \"markers\", \"name\": \"AUC_macro\", \"stepped\": false, \"type\": \"scatter\", \"data\": [0.9997092411462459, 0.956785426970753, 0.8689849016265955, 0.8214158729818248, 0.9380146775974485, 0.8152158232813502, 0.8102679969571392, 0.8416549969307503, 0.8231281657838144, 0.7794664649548761, 0.8105432697234528, 0.7369148337026175, 0.7064562650603127, 0.8683434144357447, 0.7612014923386287, 0.7622795759156341, 0.7622842938721557, 0.7621549957464634, 0.7622827967506363, 0.8475367102856227, 0.9693006781204494, 0.7672827038839758, 0.9981925657715062, 0.8316439317704998, 0.850956360073275, 0.8174069257892402, 0.7407250769339185, 0.8879452112663542, 0.8460274978404657, 0.7690082915384194, 0.4865001320007045, 0.7922980696912123, 0.8626634754589417, 0.9709885183274581, 0.7409600308103105, 0.814405837949363, 0.9997405840707959, 0.999727240580748]}, {\"categories\": [\"0\", \"1\", \"2\", \"3\", \"4\", \"5\", \"6\", \"7\", \"8\", \"9\", \"10\", \"11\", \"12\", \"13\", \"14\", \"15\", \"16\", \"17\", \"18\", \"19\", \"20\", \"21\", \"22\", \"23\", \"24\", \"25\", \"26\", \"27\", \"28\", \"29\", \"30\", \"31\", \"32\", \"33\", \"34\", \"35\", \"38\", \"39\"], \"mode\": \"lines\", \"name\": \"AUC_macro_max\", \"stepped\": true, \"type\": \"scatter\", \"data\": [0.9997092411462459, 0.9997092411462459, 0.9997092411462459, 0.9997092411462459, 0.9997092411462459, 0.9997092411462459, 0.9997092411462459, 0.9997092411462459, 0.9997092411462459, 0.9997092411462459, 0.9997092411462459, 0.9997092411462459, 0.9997092411462459, 0.9997092411462459, 0.9997092411462459, 0.9997092411462459, 0.9997092411462459, 0.9997092411462459, 0.9997092411462459, 0.9997092411462459, 0.9997092411462459, 0.9997092411462459, 0.9997092411462459, 0.9997092411462459, 0.9997092411462459, 0.9997092411462459, 0.9997092411462459, 0.9997092411462459, 0.9997092411462459, 0.9997092411462459, 0.9997092411462459, 0.9997092411462459, 0.9997092411462459, 0.9997092411462459, 0.9997092411462459, 0.9997092411462459, 0.9997405840707959, 0.9997405840707959]}], \"precision_score_micro\": [{\"categories\": [\"0\", \"1\", \"2\", \"3\", \"4\", \"5\", \"6\", \"7\", \"8\", \"9\", \"10\", \"11\", \"12\", \"13\", \"14\", \"15\", \"16\", \"17\", \"18\", \"19\", \"20\", \"21\", \"22\", \"23\", \"24\", \"25\", \"26\", \"27\", \"28\", \"29\", \"30\", \"31\", \"32\", \"33\", \"34\", \"35\", \"38\", \"39\"], \"mode\": \"markers\", \"name\": \"precision_score_micro\", \"stepped\": false, \"type\": \"scatter\", \"data\": [0.9996686032161911, 0.8737755257026774, 0.8055829041191005, 0.7665140345595434, 0.7979242847107517, 0.7502391937010607, 0.7490242122935636, 0.7659622399965282, 0.7582667203693005, 0.7349216700976683, 0.7632376178813497, 0.7181676688446068, 0.7172102430993472, 0.801090339764088, 0.7187568382709923, 0.7246851886508435, 0.7247220210633665, 0.7243906107182864, 0.7247220210633665, 0.7602913910338299, 0.8945430529676128, 0.7295457652218489, 0.9836511281621496, 0.7625388462612932, 0.8048091386694223, 0.7172102430993472, 0.7171365782743011, 0.772111232258467, 0.7941312242844396, 0.6460346165008123, 0.7172102430993472, 0.7495028573598375, 0.8077183568078938, 0.7874654255391283, 0.7172102430993472, 0.7680980045945586, 0.9997790597699465, 0.9996686032161911]}, {\"categories\": [\"0\", \"1\", \"2\", \"3\", \"4\", \"5\", \"6\", \"7\", \"8\", \"9\", \"10\", \"11\", \"12\", \"13\", \"14\", \"15\", \"16\", \"17\", \"18\", \"19\", \"20\", \"21\", \"22\", \"23\", \"24\", \"25\", \"26\", \"27\", \"28\", \"29\", \"30\", \"31\", \"32\", \"33\", \"34\", \"35\", \"38\", \"39\"], \"mode\": \"lines\", \"name\": \"precision_score_micro_max\", \"stepped\": true, \"type\": \"scatter\", \"data\": [0.9996686032161911, 0.9996686032161911, 0.9996686032161911, 0.9996686032161911, 0.9996686032161911, 0.9996686032161911, 0.9996686032161911, 0.9996686032161911, 0.9996686032161911, 0.9996686032161911, 0.9996686032161911, 0.9996686032161911, 0.9996686032161911, 0.9996686032161911, 0.9996686032161911, 0.9996686032161911, 0.9996686032161911, 0.9996686032161911, 0.9996686032161911, 0.9996686032161911, 0.9996686032161911, 0.9996686032161911, 0.9996686032161911, 0.9996686032161911, 0.9996686032161911, 0.9996686032161911, 0.9996686032161911, 0.9996686032161911, 0.9996686032161911, 0.9996686032161911, 0.9996686032161911, 0.9996686032161911, 0.9996686032161911, 0.9996686032161911, 0.9996686032161911, 0.9996686032161911, 0.9997790597699465, 0.9997790597699465]}], \"f1_score_weighted\": [{\"categories\": [\"0\", \"1\", \"2\", \"3\", \"4\", \"5\", \"6\", \"7\", \"8\", \"9\", \"10\", \"11\", \"12\", \"13\", \"14\", \"15\", \"16\", \"17\", \"18\", \"19\", \"20\", \"21\", \"22\", \"23\", \"24\", \"25\", \"26\", \"27\", \"28\", \"29\", \"30\", \"31\", \"32\", \"33\", \"34\", \"35\", \"38\", \"39\"], \"mode\": \"markers\", \"name\": \"f1_score_weighted\", \"stepped\": false, \"type\": \"scatter\", \"data\": [0.9996686098561071, 0.8648224615759392, 0.7849135511385615, 0.7265668295360453, 0.8075797108862339, 0.7189834343701154, 0.7071062273089692, 0.7337748878634386, 0.7260118754751305, 0.6679523343238545, 0.7344552546428873, 0.6483804554271447, 0.5991377408756133, 0.7731250396133773, 0.6458044902072441, 0.6702158223642957, 0.6702757991607642, 0.6695083968953682, 0.6702757991607642, 0.6927182462400399, 0.8897596485359612, 0.656111404212717, 0.9836099493662506, 0.7329547582196402, 0.7894638289377098, 0.5991377408756133, 0.5991703919693536, 0.7132465695781331, 0.7790654480883087, 0.6622750003505076, 0.5991377408756133, 0.6934952628636128, 0.7943553309343081, 0.7370926821793256, 0.5991377408756133, 0.7455764545901319, 0.9997790024221924, 0.9996686098561071]}, {\"categories\": [\"0\", \"1\", \"2\", \"3\", \"4\", \"5\", \"6\", \"7\", \"8\", \"9\", \"10\", \"11\", \"12\", \"13\", \"14\", \"15\", \"16\", \"17\", \"18\", \"19\", \"20\", \"21\", \"22\", \"23\", \"24\", \"25\", \"26\", \"27\", \"28\", \"29\", \"30\", \"31\", \"32\", \"33\", \"34\", \"35\", \"38\", \"39\"], \"mode\": \"lines\", \"name\": \"f1_score_weighted_max\", \"stepped\": true, \"type\": \"scatter\", \"data\": [0.9996686098561071, 0.9996686098561071, 0.9996686098561071, 0.9996686098561071, 0.9996686098561071, 0.9996686098561071, 0.9996686098561071, 0.9996686098561071, 0.9996686098561071, 0.9996686098561071, 0.9996686098561071, 0.9996686098561071, 0.9996686098561071, 0.9996686098561071, 0.9996686098561071, 0.9996686098561071, 0.9996686098561071, 0.9996686098561071, 0.9996686098561071, 0.9996686098561071, 0.9996686098561071, 0.9996686098561071, 0.9996686098561071, 0.9996686098561071, 0.9996686098561071, 0.9996686098561071, 0.9996686098561071, 0.9996686098561071, 0.9996686098561071, 0.9996686098561071, 0.9996686098561071, 0.9996686098561071, 0.9996686098561071, 0.9996686098561071, 0.9996686098561071, 0.9996686098561071, 0.9997790024221924, 0.9997790024221924]}], \"log_loss\": [{\"categories\": [\"0\", \"1\", \"2\", \"3\", \"4\", \"5\", \"6\", \"7\", \"8\", \"9\", \"10\", \"11\", \"12\", \"13\", \"14\", \"15\", \"16\", \"17\", \"18\", \"19\", \"20\", \"21\", \"22\", \"23\", \"24\", \"25\", \"26\", \"27\", \"28\", \"29\", \"30\", \"31\", \"32\", \"33\", \"34\", \"35\", \"38\", \"39\"], \"mode\": \"markers\", \"name\": \"log_loss\", \"stepped\": false, \"type\": \"scatter\", \"data\": [0.021531190004050068, 0.32800058648658637, 0.42739619590618466, 0.4653898230171404, 0.4134579687148503, 0.44493787496048354, 0.454592166935816, 0.4415408988026207, 0.443448515680371, 0.4790841410003174, 0.4676094876340463, 0.5198056858244507, 0.5687436174165406, 0.4356982114914286, 0.4946517674005264, 0.4935768508107792, 0.493576934635255, 0.4935765120518476, 0.49357689652426223, 0.46914402970497254, 0.3210569671582551, 0.4878078878341766, 0.15519122323470388, 0.505595925641428, 0.4358584027577333, 0.5846642489582947, 0.5154991900156756, 0.45000188295505483, 0.4345710646274667, 0.5999410747169531, 0.5956490805935515, 0.49097627398853394, 0.4220961650177818, 0.41471343285908435, 0.5288462017217312, 0.469950586793012, 0.2206832707310776, 0.023757705285838832]}, {\"categories\": [\"0\", \"1\", \"2\", \"3\", \"4\", \"5\", \"6\", \"7\", \"8\", \"9\", \"10\", \"11\", \"12\", \"13\", \"14\", \"15\", \"16\", \"17\", \"18\", \"19\", \"20\", \"21\", \"22\", \"23\", \"24\", \"25\", \"26\", \"27\", \"28\", \"29\", \"30\", \"31\", \"32\", \"33\", \"34\", \"35\", \"38\", \"39\"], \"mode\": \"lines\", \"name\": \"log_loss_min\", \"stepped\": true, \"type\": \"scatter\", \"data\": [0.021531190004050068, 0.021531190004050068, 0.021531190004050068, 0.021531190004050068, 0.021531190004050068, 0.021531190004050068, 0.021531190004050068, 0.021531190004050068, 0.021531190004050068, 0.021531190004050068, 0.021531190004050068, 0.021531190004050068, 0.021531190004050068, 0.021531190004050068, 0.021531190004050068, 0.021531190004050068, 0.021531190004050068, 0.021531190004050068, 0.021531190004050068, 0.021531190004050068, 0.021531190004050068, 0.021531190004050068, 0.021531190004050068, 0.021531190004050068, 0.021531190004050068, 0.021531190004050068, 0.021531190004050068, 0.021531190004050068, 0.021531190004050068, 0.021531190004050068, 0.021531190004050068, 0.021531190004050068, 0.021531190004050068, 0.021531190004050068, 0.021531190004050068, 0.021531190004050068, 0.021531190004050068, 0.021531190004050068]}], \"f1_score_micro\": [{\"categories\": [\"0\", \"1\", \"2\", \"3\", \"4\", \"5\", \"6\", \"7\", \"8\", \"9\", \"10\", \"11\", \"12\", \"13\", \"14\", \"15\", \"16\", \"17\", \"18\", \"19\", \"20\", \"21\", \"22\", \"23\", \"24\", \"25\", \"26\", \"27\", \"28\", \"29\", \"30\", \"31\", \"32\", \"33\", \"34\", \"35\", \"38\", \"39\"], \"mode\": \"markers\", \"name\": \"f1_score_micro\", \"stepped\": false, \"type\": \"scatter\", \"data\": [0.9996686032161911, 0.8737755257026774, 0.8055829041191005, 0.7665140345595434, 0.7979242847107517, 0.7502391937010607, 0.7490242122935636, 0.7659622399965282, 0.7582667203693005, 0.7349216700976683, 0.7632376178813497, 0.7181676688446068, 0.7172102430993472, 0.801090339764088, 0.7187568382709921, 0.7246851886508435, 0.7247220210633665, 0.7243906107182864, 0.7247220210633665, 0.7602913910338299, 0.8945430529676128, 0.7295457652218489, 0.9836511281621496, 0.7625388462612932, 0.8048091386694223, 0.7172102430993472, 0.7171365782743011, 0.772111232258467, 0.7941312242844396, 0.6460346165008123, 0.7172102430993472, 0.7495028573598375, 0.8077183568078938, 0.7874654255391282, 0.7172102430993472, 0.7680980045945586, 0.9997790597699465, 0.9996686032161911]}, {\"categories\": [\"0\", \"1\", \"2\", \"3\", \"4\", \"5\", \"6\", \"7\", \"8\", \"9\", \"10\", \"11\", \"12\", \"13\", \"14\", \"15\", \"16\", \"17\", \"18\", \"19\", \"20\", \"21\", \"22\", \"23\", \"24\", \"25\", \"26\", \"27\", \"28\", \"29\", \"30\", \"31\", \"32\", \"33\", \"34\", \"35\", \"38\", \"39\"], \"mode\": \"lines\", \"name\": \"f1_score_micro_max\", \"stepped\": true, \"type\": \"scatter\", \"data\": [0.9996686032161911, 0.9996686032161911, 0.9996686032161911, 0.9996686032161911, 0.9996686032161911, 0.9996686032161911, 0.9996686032161911, 0.9996686032161911, 0.9996686032161911, 0.9996686032161911, 0.9996686032161911, 0.9996686032161911, 0.9996686032161911, 0.9996686032161911, 0.9996686032161911, 0.9996686032161911, 0.9996686032161911, 0.9996686032161911, 0.9996686032161911, 0.9996686032161911, 0.9996686032161911, 0.9996686032161911, 0.9996686032161911, 0.9996686032161911, 0.9996686032161911, 0.9996686032161911, 0.9996686032161911, 0.9996686032161911, 0.9996686032161911, 0.9996686032161911, 0.9996686032161911, 0.9996686032161911, 0.9996686032161911, 0.9996686032161911, 0.9996686032161911, 0.9996686032161911, 0.9997790597699465, 0.9997790597699465]}], \"precision_score_macro\": [{\"categories\": [\"0\", \"1\", \"2\", \"3\", \"4\", \"5\", \"6\", \"7\", \"8\", \"9\", \"10\", \"11\", \"12\", \"13\", \"14\", \"15\", \"16\", \"17\", \"18\", \"19\", \"20\", \"21\", \"22\", \"23\", \"24\", \"25\", \"26\", \"27\", \"28\", \"29\", \"30\", \"31\", \"32\", \"33\", \"34\", \"35\", \"38\", \"39\"], \"mode\": \"markers\", \"name\": \"precision_score_macro\", \"stepped\": false, \"type\": \"scatter\", \"data\": [0.9996140407859361, 0.8911452729708953, 0.7998179561438753, 0.7548168013547316, 0.7771723937344168, 0.6955126961277254, 0.7046750603626112, 0.7335632270162242, 0.7148184899180414, 0.6919235898184196, 0.7212326658984184, 0.6208331330902813, 0.3586051215496736, 0.8136008559445393, 0.622922848497804, 0.6425864537330608, 0.6426847824290413, 0.6418075972251982, 0.6426847824290413, 0.845205919987551, 0.900281623487184, 0.6763552711473176, 0.9822356077317697, 0.7207884695901382, 0.7811180104015578, 0.3586051215496736, 0.40860331320939663, 0.8603773961836069, 0.7609957112732554, 0.6699783828835777, 0.3586051215496736, 0.7323189664040435, 0.781759413564162, 0.8857179981260856, 0.3586051215496736, 0.7242338379892634, 0.9998458051153032, 0.9996140407859361]}, {\"categories\": [\"0\", \"1\", \"2\", \"3\", \"4\", \"5\", \"6\", \"7\", \"8\", \"9\", \"10\", \"11\", \"12\", \"13\", \"14\", \"15\", \"16\", \"17\", \"18\", \"19\", \"20\", \"21\", \"22\", \"23\", \"24\", \"25\", \"26\", \"27\", \"28\", \"29\", \"30\", \"31\", \"32\", \"33\", \"34\", \"35\", \"38\", \"39\"], \"mode\": \"lines\", \"name\": \"precision_score_macro_max\", \"stepped\": true, \"type\": \"scatter\", \"data\": [0.9996140407859361, 0.9996140407859361, 0.9996140407859361, 0.9996140407859361, 0.9996140407859361, 0.9996140407859361, 0.9996140407859361, 0.9996140407859361, 0.9996140407859361, 0.9996140407859361, 0.9996140407859361, 0.9996140407859361, 0.9996140407859361, 0.9996140407859361, 0.9996140407859361, 0.9996140407859361, 0.9996140407859361, 0.9996140407859361, 0.9996140407859361, 0.9996140407859361, 0.9996140407859361, 0.9996140407859361, 0.9996140407859361, 0.9996140407859361, 0.9996140407859361, 0.9996140407859361, 0.9996140407859361, 0.9996140407859361, 0.9996140407859361, 0.9996140407859361, 0.9996140407859361, 0.9996140407859361, 0.9996140407859361, 0.9996140407859361, 0.9996140407859361, 0.9996140407859361, 0.9998458051153032, 0.9998458051153032]}], \"AUC_micro\": [{\"categories\": [\"0\", \"1\", \"2\", \"3\", \"4\", \"5\", \"6\", \"7\", \"8\", \"9\", \"10\", \"11\", \"12\", \"13\", \"14\", \"15\", \"16\", \"17\", \"18\", \"19\", \"20\", \"21\", \"22\", \"23\", \"24\", \"25\", \"26\", \"27\", \"28\", \"29\", \"30\", \"31\", \"32\", \"33\", \"34\", \"35\", \"38\", \"39\"], \"mode\": \"markers\", \"name\": \"AUC_micro\", \"stepped\": false, \"type\": \"scatter\", \"data\": [0.9998199696781936, 0.9573056030442861, 0.8912501500924144, 0.8574668807129291, 0.9067669997051733, 0.8547497376480508, 0.8544812343723747, 0.8727847266692965, 0.8630835816011366, 0.8362174597428765, 0.8553125673659692, 0.8131988027087201, 0.8009480049495037, 0.885691801457806, 0.8236882809905298, 0.8239329434062691, 0.8239355601974235, 0.823889801855984, 0.8239343940978199, 0.8635593711868985, 0.9680411202084542, 0.8295077554813993, 0.9985144003114819, 0.8678442514815379, 0.8834738350978327, 0.8459109657522115, 0.8148507560225718, 0.8824189980434041, 0.8826302915670459, 0.7418383423788131, 0.7117193567369747, 0.8412952988985101, 0.8936993876949986, 0.9212937091699601, 0.8149498271030866, 0.8571468146678379, 0.999786615483511, 0.9998269899424954]}, {\"categories\": [\"0\", \"1\", \"2\", \"3\", \"4\", \"5\", \"6\", \"7\", \"8\", \"9\", \"10\", \"11\", \"12\", \"13\", \"14\", \"15\", \"16\", \"17\", \"18\", \"19\", \"20\", \"21\", \"22\", \"23\", \"24\", \"25\", \"26\", \"27\", \"28\", \"29\", \"30\", \"31\", \"32\", \"33\", \"34\", \"35\", \"38\", \"39\"], \"mode\": \"lines\", \"name\": \"AUC_micro_max\", \"stepped\": true, \"type\": \"scatter\", \"data\": [0.9998199696781936, 0.9998199696781936, 0.9998199696781936, 0.9998199696781936, 0.9998199696781936, 0.9998199696781936, 0.9998199696781936, 0.9998199696781936, 0.9998199696781936, 0.9998199696781936, 0.9998199696781936, 0.9998199696781936, 0.9998199696781936, 0.9998199696781936, 0.9998199696781936, 0.9998199696781936, 0.9998199696781936, 0.9998199696781936, 0.9998199696781936, 0.9998199696781936, 0.9998199696781936, 0.9998199696781936, 0.9998199696781936, 0.9998199696781936, 0.9998199696781936, 0.9998199696781936, 0.9998199696781936, 0.9998199696781936, 0.9998199696781936, 0.9998199696781936, 0.9998199696781936, 0.9998199696781936, 0.9998199696781936, 0.9998199696781936, 0.9998199696781936, 0.9998199696781936, 0.9998199696781936, 0.9998269899424954]}]}, \"metricName\": null, \"primaryMetricName\": \"accuracy\", \"showLegend\": false}, \"run_metrics\": [{\"name\": \"experiment_status\", \"run_id\": \"AutoML_504cb5fa-cd54-4ce5-a418-95cf7d6c6e96\", \"categories\": [0, 1, 2, 3, 4, 5, 6, 7, 8, 9, 10, 11, 12, 13], \"series\": [{\"data\": [\"DatasetEvaluation\", \"FeaturesGeneration\", \"DatasetFeaturization\", \"DatasetFeaturizationCompleted\", \"DatasetCrossValidationSplit\", \"ModelSelection\", \"BestRunExplainModel\", \"ModelExplanationDataSetSetup\", \"PickSurrogateModel\", \"EngineeredFeatureExplanations\", \"EngineeredFeatureExplanations\", \"RawFeaturesExplanations\", \"RawFeaturesExplanations\", \"BestRunExplainModel\"]}]}, {\"name\": \"experiment_status_description\", \"run_id\": \"AutoML_504cb5fa-cd54-4ce5-a418-95cf7d6c6e96\", \"categories\": [0, 1, 2, 3, 4, 5, 6, 7, 8, 9, 10, 11, 12, 13], \"series\": [{\"data\": [\"Gathering dataset statistics.\", \"Generating features for the dataset.\", \"Beginning to fit featurizers and featurize the dataset.\", \"Completed fit featurizers and featurizing the dataset.\", \"Generating individually featurized CV splits.\", \"Beginning model selection.\", \"Best run model explanations started\", \"Model explanations data setup completed\", \"Choosing LightGBM as the surrogate model for explanations\", \"Computation of engineered features started\", \"Computation of engineered features completed\", \"Computation of raw features started\", \"Computation of raw features completed\", \"Best run model explanations completed\"]}]}, {\"name\": \"average_precision_score_micro\", \"run_id\": \"AutoML_504cb5fa-cd54-4ce5-a418-95cf7d6c6e96\", \"categories\": [0], \"series\": [{\"data\": [0.9997427104307498]}]}, {\"name\": \"log_loss\", \"run_id\": \"AutoML_504cb5fa-cd54-4ce5-a418-95cf7d6c6e96\", \"categories\": [0], \"series\": [{\"data\": [0.2206832707310776]}]}, {\"name\": \"balanced_accuracy\", \"run_id\": \"AutoML_504cb5fa-cd54-4ce5-a418-95cf7d6c6e96\", \"categories\": [0], \"series\": [{\"data\": [0.9996109644048939]}]}, {\"name\": \"f1_score_micro\", \"run_id\": \"AutoML_504cb5fa-cd54-4ce5-a418-95cf7d6c6e96\", \"categories\": [0], \"series\": [{\"data\": [0.9997790597699465]}]}, {\"name\": \"f1_score_macro\", \"run_id\": \"AutoML_504cb5fa-cd54-4ce5-a418-95cf7d6c6e96\", \"categories\": [0], \"series\": [{\"data\": [0.9997281910606806]}]}, {\"name\": \"precision_score_macro\", \"run_id\": \"AutoML_504cb5fa-cd54-4ce5-a418-95cf7d6c6e96\", \"categories\": [0], \"series\": [{\"data\": [0.9998458051153032]}]}, {\"name\": \"f1_score_weighted\", \"run_id\": \"AutoML_504cb5fa-cd54-4ce5-a418-95cf7d6c6e96\", \"categories\": [0], \"series\": [{\"data\": [0.9997790024221924]}]}, {\"name\": \"weighted_accuracy\", \"run_id\": \"AutoML_504cb5fa-cd54-4ce5-a418-95cf7d6c6e96\", \"categories\": [0], \"series\": [{\"data\": [0.9998942174962437]}]}, {\"name\": \"recall_score_weighted\", \"run_id\": \"AutoML_504cb5fa-cd54-4ce5-a418-95cf7d6c6e96\", \"categories\": [0], \"series\": [{\"data\": [0.9997790597699465]}]}, {\"name\": \"AUC_macro\", \"run_id\": \"AutoML_504cb5fa-cd54-4ce5-a418-95cf7d6c6e96\", \"categories\": [0], \"series\": [{\"data\": [0.9997405840707959]}]}, {\"name\": \"matthews_correlation\", \"run_id\": \"AutoML_504cb5fa-cd54-4ce5-a418-95cf7d6c6e96\", \"categories\": [0], \"series\": [{\"data\": [0.999456708922604]}]}, {\"name\": \"precision_score_micro\", \"run_id\": \"AutoML_504cb5fa-cd54-4ce5-a418-95cf7d6c6e96\", \"categories\": [0], \"series\": [{\"data\": [0.9997790597699465]}]}, {\"name\": \"AUC_weighted\", \"run_id\": \"AutoML_504cb5fa-cd54-4ce5-a418-95cf7d6c6e96\", \"categories\": [0], \"series\": [{\"data\": [0.9997405840707959]}]}, {\"name\": \"AUC_micro\", \"run_id\": \"AutoML_504cb5fa-cd54-4ce5-a418-95cf7d6c6e96\", \"categories\": [0], \"series\": [{\"data\": [0.999786615483511]}]}, {\"name\": \"recall_score_macro\", \"run_id\": \"AutoML_504cb5fa-cd54-4ce5-a418-95cf7d6c6e96\", \"categories\": [0], \"series\": [{\"data\": [0.9996109644048939]}]}, {\"name\": \"norm_macro_recall\", \"run_id\": \"AutoML_504cb5fa-cd54-4ce5-a418-95cf7d6c6e96\", \"categories\": [0], \"series\": [{\"data\": [0.999221928809788]}]}, {\"name\": \"average_precision_score_weighted\", \"run_id\": \"AutoML_504cb5fa-cd54-4ce5-a418-95cf7d6c6e96\", \"categories\": [0], \"series\": [{\"data\": [0.9997985614740761]}]}, {\"name\": \"average_precision_score_macro\", \"run_id\": \"AutoML_504cb5fa-cd54-4ce5-a418-95cf7d6c6e96\", \"categories\": [0], \"series\": [{\"data\": [0.9997808734944718]}]}, {\"name\": \"recall_score_micro\", \"run_id\": \"AutoML_504cb5fa-cd54-4ce5-a418-95cf7d6c6e96\", \"categories\": [0], \"series\": [{\"data\": [0.9997790597699465]}]}, {\"name\": \"precision_score_weighted\", \"run_id\": \"AutoML_504cb5fa-cd54-4ce5-a418-95cf7d6c6e96\", \"categories\": [0], \"series\": [{\"data\": [0.9997792113992109]}]}, {\"name\": \"accuracy\", \"run_id\": \"AutoML_504cb5fa-cd54-4ce5-a418-95cf7d6c6e96\", \"categories\": [0], \"series\": [{\"data\": [0.9997790597699465]}]}], \"run_logs\": \"\\nRun is completed.\", \"graph\": {}, \"widget_settings\": {\"childWidgetDisplay\": \"popup\", \"send_telemetry\": false, \"log_level\": \"INFO\", \"sdk_version\": \"1.20.0\"}, \"loading\": false}"
     },
     "metadata": {},
     "output_type": "display_data"
    }
   ],
   "source": [
    "#Visualize experiment\n",
    "RunDetails(remote_run).show()\n"
   ]
  },
  {
   "cell_type": "code",
   "execution_count": 13,
   "metadata": {},
   "outputs": [
    {
     "data": {
      "text/plain": [
       "{'runId': 'AutoML_504cb5fa-cd54-4ce5-a418-95cf7d6c6e96',\n",
       " 'target': 'notebook137067',\n",
       " 'status': 'Completed',\n",
       " 'startTimeUtc': '2021-02-03T09:57:01.324013Z',\n",
       " 'endTimeUtc': '2021-02-03T10:19:48.633216Z',\n",
       " 'properties': {'num_iterations': '1000',\n",
       "  'training_type': 'TrainFull',\n",
       "  'acquisition_function': 'EI',\n",
       "  'primary_metric': 'accuracy',\n",
       "  'train_split': '0',\n",
       "  'acquisition_parameter': '0',\n",
       "  'num_cross_validation': '10',\n",
       "  'target': 'notebook137067',\n",
       "  'AMLSettingsJsonString': '{\"path\":null,\"name\":\"liver-disease-automl\",\"subscription_id\":\"aa7cf8e8-d23f-4bce-a7b9-1f0b4e0ac8ee\",\"resource_group\":\"aml-quickstarts-137067\",\"workspace_name\":\"quick-starts-ws-137067\",\"region\":\"southcentralus\",\"compute_target\":\"notebook137067\",\"spark_service\":null,\"azure_service\":\"remote\",\"many_models\":false,\"pipeline_fetch_max_batch_size\":1,\"iterations\":1000,\"primary_metric\":\"accuracy\",\"task_type\":\"classification\",\"data_script\":null,\"validation_size\":0.0,\"n_cross_validations\":10,\"y_min\":null,\"y_max\":null,\"num_classes\":null,\"featurization\":\"auto\",\"_ignore_package_version_incompatibilities\":false,\"is_timeseries\":false,\"max_cores_per_iteration\":-1,\"max_concurrent_iterations\":5,\"iteration_timeout_minutes\":5,\"mem_in_mb\":null,\"enforce_time_on_windows\":false,\"experiment_timeout_minutes\":60,\"experiment_exit_score\":null,\"whitelist_models\":null,\"blacklist_algos\":[\"TensorFlowLinearClassifier\",\"TensorFlowDNN\"],\"supported_models\":[\"SGD\",\"TensorFlowDNN\",\"TensorFlowLinearClassifier\",\"MultinomialNaiveBayes\",\"RandomForest\",\"LinearSVM\",\"DecisionTree\",\"SVM\",\"AveragedPerceptronClassifier\",\"GradientBoosting\",\"KNN\",\"BernoulliNaiveBayes\",\"LogisticRegression\",\"ExtremeRandomTrees\",\"LightGBM\",\"XGBoostClassifier\"],\"auto_blacklist\":true,\"blacklist_samples_reached\":false,\"exclude_nan_labels\":true,\"verbosity\":20,\"_debug_log\":\"azureml_automl.log\",\"show_warnings\":false,\"model_explainability\":true,\"service_url\":null,\"sdk_url\":null,\"sdk_packages\":null,\"enable_onnx_compatible_models\":false,\"enable_split_onnx_featurizer_estimator_models\":false,\"vm_type\":\"STANDARD_DS12_V2\",\"telemetry_verbosity\":20,\"send_telemetry\":true,\"enable_dnn\":false,\"scenario\":\"SDK-1.13.0\",\"environment_label\":null,\"force_text_dnn\":false,\"enable_feature_sweeping\":true,\"enable_early_stopping\":true,\"early_stopping_n_iters\":10,\"metrics\":null,\"enable_ensembling\":true,\"enable_stack_ensembling\":true,\"ensemble_iterations\":15,\"enable_tf\":false,\"enable_subsampling\":null,\"subsample_seed\":null,\"enable_nimbusml\":false,\"enable_streaming\":false,\"force_streaming\":false,\"track_child_runs\":true,\"allowed_private_models\":[],\"label_column_name\":\"Result\",\"weight_column_name\":null,\"cv_split_column_names\":null,\"enable_local_managed\":false,\"_local_managed_run_id\":null,\"cost_mode\":1,\"lag_length\":0,\"metric_operation\":\"maximize\",\"preprocess\":true}',\n",
       "  'DataPrepJsonString': '{\\\\\"training_data\\\\\": \\\\\"{\\\\\\\\\\\\\"blocks\\\\\\\\\\\\\": [{\\\\\\\\\\\\\"id\\\\\\\\\\\\\": \\\\\\\\\\\\\"513109ba-aed7-40a6-9f69-b3a6dac1b99b\\\\\\\\\\\\\", \\\\\\\\\\\\\"type\\\\\\\\\\\\\": \\\\\\\\\\\\\"Microsoft.DPrep.GetDatastoreFilesBlock\\\\\\\\\\\\\", \\\\\\\\\\\\\"arguments\\\\\\\\\\\\\": {\\\\\\\\\\\\\"datastores\\\\\\\\\\\\\": [{\\\\\\\\\\\\\"datastoreName\\\\\\\\\\\\\": \\\\\\\\\\\\\"workspaceblobstore\\\\\\\\\\\\\", \\\\\\\\\\\\\"path\\\\\\\\\\\\\": \\\\\\\\\\\\\"train_data.csv\\\\\\\\\\\\\", \\\\\\\\\\\\\"resourceGroup\\\\\\\\\\\\\": \\\\\\\\\\\\\"aml-quickstarts-137067\\\\\\\\\\\\\", \\\\\\\\\\\\\"subscription\\\\\\\\\\\\\": \\\\\\\\\\\\\"aa7cf8e8-d23f-4bce-a7b9-1f0b4e0ac8ee\\\\\\\\\\\\\", \\\\\\\\\\\\\"workspaceName\\\\\\\\\\\\\": \\\\\\\\\\\\\"quick-starts-ws-137067\\\\\\\\\\\\\"}]}, \\\\\\\\\\\\\"localData\\\\\\\\\\\\\": {}, \\\\\\\\\\\\\"isEnabled\\\\\\\\\\\\\": true, \\\\\\\\\\\\\"name\\\\\\\\\\\\\": null, \\\\\\\\\\\\\"annotation\\\\\\\\\\\\\": null}, {\\\\\\\\\\\\\"id\\\\\\\\\\\\\": \\\\\\\\\\\\\"6219898c-3be6-428f-9c38-ae3292c2eaf7\\\\\\\\\\\\\", \\\\\\\\\\\\\"type\\\\\\\\\\\\\": \\\\\\\\\\\\\"Microsoft.DPrep.ParseDelimitedBlock\\\\\\\\\\\\\", \\\\\\\\\\\\\"arguments\\\\\\\\\\\\\": {\\\\\\\\\\\\\"columnHeadersMode\\\\\\\\\\\\\": 3, \\\\\\\\\\\\\"fileEncoding\\\\\\\\\\\\\": 0, \\\\\\\\\\\\\"handleQuotedLineBreaks\\\\\\\\\\\\\": false, \\\\\\\\\\\\\"preview\\\\\\\\\\\\\": false, \\\\\\\\\\\\\"separator\\\\\\\\\\\\\": \\\\\\\\\\\\\",\\\\\\\\\\\\\", \\\\\\\\\\\\\"skipRows\\\\\\\\\\\\\": 0, \\\\\\\\\\\\\"skipRowsMode\\\\\\\\\\\\\": 0}, \\\\\\\\\\\\\"localData\\\\\\\\\\\\\": {}, \\\\\\\\\\\\\"isEnabled\\\\\\\\\\\\\": true, \\\\\\\\\\\\\"name\\\\\\\\\\\\\": null, \\\\\\\\\\\\\"annotation\\\\\\\\\\\\\": null}, {\\\\\\\\\\\\\"id\\\\\\\\\\\\\": \\\\\\\\\\\\\"bb430315-c8f6-4bb6-8082-3d860686c283\\\\\\\\\\\\\", \\\\\\\\\\\\\"type\\\\\\\\\\\\\": \\\\\\\\\\\\\"Microsoft.DPrep.DropColumnsBlock\\\\\\\\\\\\\", \\\\\\\\\\\\\"arguments\\\\\\\\\\\\\": {\\\\\\\\\\\\\"columns\\\\\\\\\\\\\": {\\\\\\\\\\\\\"type\\\\\\\\\\\\\": 0, \\\\\\\\\\\\\"details\\\\\\\\\\\\\": {\\\\\\\\\\\\\"selectedColumns\\\\\\\\\\\\\": [\\\\\\\\\\\\\"Path\\\\\\\\\\\\\"]}}}, \\\\\\\\\\\\\"localData\\\\\\\\\\\\\": {}, \\\\\\\\\\\\\"isEnabled\\\\\\\\\\\\\": true, \\\\\\\\\\\\\"name\\\\\\\\\\\\\": null, \\\\\\\\\\\\\"annotation\\\\\\\\\\\\\": null}, {\\\\\\\\\\\\\"id\\\\\\\\\\\\\": \\\\\\\\\\\\\"9920541b-79cb-44a9-bdef-ea59ded7befc\\\\\\\\\\\\\", \\\\\\\\\\\\\"type\\\\\\\\\\\\\": \\\\\\\\\\\\\"Microsoft.DPrep.SetColumnTypesBlock\\\\\\\\\\\\\", \\\\\\\\\\\\\"arguments\\\\\\\\\\\\\": {\\\\\\\\\\\\\"columnConversion\\\\\\\\\\\\\": [{\\\\\\\\\\\\\"column\\\\\\\\\\\\\": {\\\\\\\\\\\\\"type\\\\\\\\\\\\\": 2, \\\\\\\\\\\\\"details\\\\\\\\\\\\\": {\\\\\\\\\\\\\"selectedColumn\\\\\\\\\\\\\": \\\\\\\\\\\\\"Column1\\\\\\\\\\\\\"}}, \\\\\\\\\\\\\"typeProperty\\\\\\\\\\\\\": 2}, {\\\\\\\\\\\\\"column\\\\\\\\\\\\\": {\\\\\\\\\\\\\"type\\\\\\\\\\\\\": 2, \\\\\\\\\\\\\"details\\\\\\\\\\\\\": {\\\\\\\\\\\\\"selectedColumn\\\\\\\\\\\\\": \\\\\\\\\\\\\"Age\\\\\\\\\\\\\"}}, \\\\\\\\\\\\\"typeProperty\\\\\\\\\\\\\": 3}, {\\\\\\\\\\\\\"column\\\\\\\\\\\\\": {\\\\\\\\\\\\\"type\\\\\\\\\\\\\": 2, \\\\\\\\\\\\\"details\\\\\\\\\\\\\": {\\\\\\\\\\\\\"selectedColumn\\\\\\\\\\\\\": \\\\\\\\\\\\\"Gender_Female\\\\\\\\\\\\\"}}, \\\\\\\\\\\\\"typeProperty\\\\\\\\\\\\\": 2}, {\\\\\\\\\\\\\"column\\\\\\\\\\\\\": {\\\\\\\\\\\\\"type\\\\\\\\\\\\\": 2, \\\\\\\\\\\\\"details\\\\\\\\\\\\\": {\\\\\\\\\\\\\"selectedColumn\\\\\\\\\\\\\": \\\\\\\\\\\\\"Gender_Male\\\\\\\\\\\\\"}}, \\\\\\\\\\\\\"typeProperty\\\\\\\\\\\\\": 2}, {\\\\\\\\\\\\\"column\\\\\\\\\\\\\": {\\\\\\\\\\\\\"type\\\\\\\\\\\\\": 2, \\\\\\\\\\\\\"details\\\\\\\\\\\\\": {\\\\\\\\\\\\\"selectedColumn\\\\\\\\\\\\\": \\\\\\\\\\\\\"T_Bili\\\\\\\\\\\\\"}}, \\\\\\\\\\\\\"typeProperty\\\\\\\\\\\\\": 3}, {\\\\\\\\\\\\\"column\\\\\\\\\\\\\": {\\\\\\\\\\\\\"type\\\\\\\\\\\\\": 2, \\\\\\\\\\\\\"details\\\\\\\\\\\\\": {\\\\\\\\\\\\\"selectedColumn\\\\\\\\\\\\\": \\\\\\\\\\\\\"D_Bili\\\\\\\\\\\\\"}}, \\\\\\\\\\\\\"typeProperty\\\\\\\\\\\\\": 3}, {\\\\\\\\\\\\\"column\\\\\\\\\\\\\": {\\\\\\\\\\\\\"type\\\\\\\\\\\\\": 2, \\\\\\\\\\\\\"details\\\\\\\\\\\\\": {\\\\\\\\\\\\\"selectedColumn\\\\\\\\\\\\\": \\\\\\\\\\\\\"AA_Phosphate\\\\\\\\\\\\\"}}, \\\\\\\\\\\\\"typeProperty\\\\\\\\\\\\\": 3}, {\\\\\\\\\\\\\"column\\\\\\\\\\\\\": {\\\\\\\\\\\\\"type\\\\\\\\\\\\\": 2, \\\\\\\\\\\\\"details\\\\\\\\\\\\\": {\\\\\\\\\\\\\"selectedColumn\\\\\\\\\\\\\": \\\\\\\\\\\\\"SgptA_Aminotrans\\\\\\\\\\\\\"}}, \\\\\\\\\\\\\"typeProperty\\\\\\\\\\\\\": 3}, {\\\\\\\\\\\\\"column\\\\\\\\\\\\\": {\\\\\\\\\\\\\"type\\\\\\\\\\\\\": 2, \\\\\\\\\\\\\"details\\\\\\\\\\\\\": {\\\\\\\\\\\\\"selectedColumn\\\\\\\\\\\\\": \\\\\\\\\\\\\"SgotA_Aminotrans\\\\\\\\\\\\\"}}, \\\\\\\\\\\\\"typeProperty\\\\\\\\\\\\\": 3}, {\\\\\\\\\\\\\"column\\\\\\\\\\\\\": {\\\\\\\\\\\\\"type\\\\\\\\\\\\\": 2, \\\\\\\\\\\\\"details\\\\\\\\\\\\\": {\\\\\\\\\\\\\"selectedColumn\\\\\\\\\\\\\": \\\\\\\\\\\\\"T_proteins\\\\\\\\\\\\\"}}, \\\\\\\\\\\\\"typeProperty\\\\\\\\\\\\\": 3}, {\\\\\\\\\\\\\"column\\\\\\\\\\\\\": {\\\\\\\\\\\\\"type\\\\\\\\\\\\\": 2, \\\\\\\\\\\\\"details\\\\\\\\\\\\\": {\\\\\\\\\\\\\"selectedColumn\\\\\\\\\\\\\": \\\\\\\\\\\\\"ALB_Albumin\\\\\\\\\\\\\"}}, \\\\\\\\\\\\\"typeProperty\\\\\\\\\\\\\": 3}, {\\\\\\\\\\\\\"column\\\\\\\\\\\\\": {\\\\\\\\\\\\\"type\\\\\\\\\\\\\": 2, \\\\\\\\\\\\\"details\\\\\\\\\\\\\": {\\\\\\\\\\\\\"selectedColumn\\\\\\\\\\\\\": \\\\\\\\\\\\\"AG_AlbuminR_GlobulinR\\\\\\\\\\\\\"}}, \\\\\\\\\\\\\"typeProperty\\\\\\\\\\\\\": 3}, {\\\\\\\\\\\\\"column\\\\\\\\\\\\\": {\\\\\\\\\\\\\"type\\\\\\\\\\\\\": 2, \\\\\\\\\\\\\"details\\\\\\\\\\\\\": {\\\\\\\\\\\\\"selectedColumn\\\\\\\\\\\\\": \\\\\\\\\\\\\"Result\\\\\\\\\\\\\"}}, \\\\\\\\\\\\\"typeProperty\\\\\\\\\\\\\": 2}]}, \\\\\\\\\\\\\"localData\\\\\\\\\\\\\": {}, \\\\\\\\\\\\\"isEnabled\\\\\\\\\\\\\": true, \\\\\\\\\\\\\"name\\\\\\\\\\\\\": null, \\\\\\\\\\\\\"annotation\\\\\\\\\\\\\": null}], \\\\\\\\\\\\\"inspectors\\\\\\\\\\\\\": [], \\\\\\\\\\\\\"meta\\\\\\\\\\\\\": {\\\\\\\\\\\\\"savedDatasetId\\\\\\\\\\\\\": \\\\\\\\\\\\\"e635a73e-0b8d-4e4a-bd33-3bdf094ff7f7\\\\\\\\\\\\\", \\\\\\\\\\\\\"datasetType\\\\\\\\\\\\\": \\\\\\\\\\\\\"tabular\\\\\\\\\\\\\", \\\\\\\\\\\\\"subscriptionId\\\\\\\\\\\\\": \\\\\\\\\\\\\"aa7cf8e8-d23f-4bce-a7b9-1f0b4e0ac8ee\\\\\\\\\\\\\", \\\\\\\\\\\\\"workspaceId\\\\\\\\\\\\\": \\\\\\\\\\\\\"3f57c204-ba57-455c-9722-13945b0cb30e\\\\\\\\\\\\\", \\\\\\\\\\\\\"workspaceLocation\\\\\\\\\\\\\": \\\\\\\\\\\\\"southcentralus\\\\\\\\\\\\\"}}\\\\\", \\\\\"activities\\\\\": 0}',\n",
       "  'EnableSubsampling': None,\n",
       "  'runTemplate': 'AutoML',\n",
       "  'azureml.runsource': 'automl',\n",
       "  'display_task_type': 'classification',\n",
       "  'dependencies_versions': '{\"azureml-widgets\": \"1.20.0\", \"azureml-train\": \"1.20.0\", \"azureml-train-restclients-hyperdrive\": \"1.20.0\", \"azureml-train-core\": \"1.20.0\", \"azureml-train-automl\": \"1.20.0\", \"azureml-train-automl-runtime\": \"1.20.0\", \"azureml-train-automl-client\": \"1.20.0\", \"azureml-tensorboard\": \"1.20.0\", \"azureml-telemetry\": \"1.20.0\", \"azureml-sdk\": \"1.20.0\", \"azureml-samples\": \"0+unknown\", \"azureml-pipeline\": \"1.20.0\", \"azureml-pipeline-steps\": \"1.20.0\", \"azureml-pipeline-core\": \"1.20.0\", \"azureml-opendatasets\": \"1.20.0\", \"azureml-model-management-sdk\": \"1.0.1b6.post1\", \"azureml-mlflow\": \"1.20.0.post1\", \"azureml-interpret\": \"1.20.0\", \"azureml-explain-model\": \"1.20.0\", \"azureml-defaults\": \"1.20.0\", \"azureml-dataset-runtime\": \"1.20.0\", \"azureml-dataprep\": \"2.7.3\", \"azureml-dataprep-rslex\": \"1.5.0\", \"azureml-dataprep-native\": \"27.0.0\", \"azureml-datadrift\": \"1.20.0\", \"azureml-core\": \"1.20.0\", \"azureml-contrib-services\": \"1.20.0\", \"azureml-contrib-server\": \"1.20.0\", \"azureml-contrib-reinforcementlearning\": \"1.20.0\", \"azureml-contrib-pipeline-steps\": \"1.20.0\", \"azureml-contrib-notebook\": \"1.20.0\", \"azureml-contrib-interpret\": \"1.20.0\", \"azureml-contrib-gbdt\": \"1.20.0\", \"azureml-contrib-fairness\": \"1.20.0\", \"azureml-contrib-dataset\": \"1.20.0\", \"azureml-cli-common\": \"1.20.0\", \"azureml-automl-runtime\": \"1.20.0\", \"azureml-automl-core\": \"1.20.0\", \"azureml-accel-models\": \"1.20.0\"}',\n",
       "  '_aml_system_scenario_identification': 'Remote.Parent',\n",
       "  'ClientType': 'SDK',\n",
       "  'environment_cpu_name': 'AzureML-AutoML',\n",
       "  'environment_cpu_label': 'prod',\n",
       "  'environment_gpu_name': 'AzureML-AutoML-GPU',\n",
       "  'environment_gpu_label': 'prod',\n",
       "  'root_attribution': 'automl',\n",
       "  'attribution': 'AutoML',\n",
       "  'Orchestrator': 'AutoML',\n",
       "  'CancelUri': 'https://southcentralus.experiments.azureml.net/jasmine/v1.0/subscriptions/aa7cf8e8-d23f-4bce-a7b9-1f0b4e0ac8ee/resourceGroups/aml-quickstarts-137067/providers/Microsoft.MachineLearningServices/workspaces/quick-starts-ws-137067/experimentids/e6dbbb84-4d17-49e9-838e-5a35dcd7f7d1/cancel/AutoML_504cb5fa-cd54-4ce5-a418-95cf7d6c6e96',\n",
       "  'ClientSdkVersion': '1.21.0',\n",
       "  'snapshotId': '00000000-0000-0000-0000-000000000000',\n",
       "  'SetupRunId': 'AutoML_504cb5fa-cd54-4ce5-a418-95cf7d6c6e96_setup',\n",
       "  'SetupRunContainerId': 'dcid.AutoML_504cb5fa-cd54-4ce5-a418-95cf7d6c6e96_setup',\n",
       "  'FeaturizationRunJsonPath': 'featurizer_container.json',\n",
       "  'FeaturizationRunId': 'AutoML_504cb5fa-cd54-4ce5-a418-95cf7d6c6e96_featurize',\n",
       "  'ProblemInfoJsonString': '{\"dataset_num_categorical\": 0, \"is_sparse\": false, \"subsampling\": false, \"dataset_classes\": 2, \"dataset_features\": 12, \"dataset_samples\": 27158, \"single_frequency_class_detected\": false}',\n",
       "  'ModelExplainRunId': 'AutoML_504cb5fa-cd54-4ce5-a418-95cf7d6c6e96_ModelExplain'},\n",
       " 'inputDatasets': [{'dataset': {'id': 'e635a73e-0b8d-4e4a-bd33-3bdf094ff7f7'}, 'consumptionDetails': {'type': 'RunInput', 'inputName': 'training_data', 'mechanism': 'Direct'}}],\n",
       " 'outputDatasets': [],\n",
       " 'logFiles': {},\n",
       " 'submittedBy': 'ODL_User 137067'}"
      ]
     },
     "execution_count": 13,
     "metadata": {},
     "output_type": "execute_result"
    }
   ],
   "source": [
    "remote_run.wait_for_completion()"
   ]
  },
  {
   "cell_type": "markdown",
   "metadata": {},
   "source": [
    "## Best Model\n",
    "\n",
    "TODO: In the cell below, get the best model from the automl experiments and display all the properties of the model.\n",
    "\n"
   ]
  },
  {
   "cell_type": "code",
   "execution_count": 14,
   "metadata": {
    "gather": {
     "logged": 1598431425670
    },
    "jupyter": {
     "outputs_hidden": false,
     "source_hidden": false
    },
    "nteract": {
     "transient": {
      "deleting": false
     }
    }
   },
   "outputs": [
    {
     "name": "stdout",
     "output_type": "stream",
     "text": [
      "{'experiment_status': ['DatasetEvaluation', 'FeaturesGeneration', 'DatasetFeaturization', 'DatasetFeaturizationCompleted', 'DatasetCrossValidationSplit', 'ModelSelection'], 'experiment_status_description': ['Gathering dataset statistics.', 'Generating features for the dataset.', 'Beginning to fit featurizers and featurize the dataset.', 'Completed fit featurizers and featurizing the dataset.', 'Generating individually featurized CV splits.', 'Beginning model selection.'], 'average_precision_score_micro': 0.9997427104307498, 'log_loss': 0.2206832707310776, 'balanced_accuracy': 0.9996109644048939, 'f1_score_micro': 0.9997790597699465, 'f1_score_macro': 0.9997281910606806, 'precision_score_macro': 0.9998458051153032, 'f1_score_weighted': 0.9997790024221924, 'weighted_accuracy': 0.9998942174962437, 'recall_score_weighted': 0.9997790597699465, 'AUC_macro': 0.9997405840707959, 'matthews_correlation': 0.999456708922604, 'precision_score_micro': 0.9997790597699465, 'AUC_weighted': 0.9997405840707959, 'AUC_micro': 0.999786615483511, 'recall_score_macro': 0.9996109644048939, 'norm_macro_recall': 0.999221928809788, 'average_precision_score_weighted': 0.9997985614740761, 'average_precision_score_macro': 0.9997808734944718, 'recall_score_micro': 0.9997790597699465, 'precision_score_weighted': 0.9997792113992109, 'accuracy': 0.9997790597699465}\n"
     ]
    }
   ],
   "source": [
    "# Retrieve and save your best automl model.\n",
    "best_automl_run_metrics = remote_run.get_metrics()\n",
    "print(best_automl_run_metrics)"
   ]
  },
  {
   "cell_type": "code",
   "execution_count": 15,
   "metadata": {},
   "outputs": [
    {
     "name": "stdout",
     "output_type": "stream",
     "text": [
      "Best AutoML model Accuracy:  0.9997790597699465\n"
     ]
    }
   ],
   "source": [
    "print(\"Best AutoML model Accuracy: \", best_automl_run_metrics['accuracy'])"
   ]
  },
  {
   "cell_type": "code",
   "execution_count": 16,
   "metadata": {
    "gather": {
     "logged": 1598431426111
    },
    "jupyter": {
     "outputs_hidden": false,
     "source_hidden": false
    },
    "nteract": {
     "transient": {
      "deleting": false
     }
    }
   },
   "outputs": [
    {
     "name": "stderr",
     "output_type": "stream",
     "text": [
      "WARNING:root:The version of the SDK does not match the version the model was trained on.\n",
      "WARNING:root:The consistency in the result may not be guaranteed.\n",
      "WARNING:root:Package:azureml-automl-core, training version:1.21.0, current version:1.20.0\n",
      "Package:azureml-automl-runtime, training version:1.21.0, current version:1.20.0\n",
      "Package:azureml-core, training version:1.21.0.post1, current version:1.20.0\n",
      "Package:azureml-dataprep, training version:2.8.2, current version:2.7.3\n",
      "Package:azureml-dataprep-native, training version:28.0.0, current version:27.0.0\n",
      "Package:azureml-dataprep-rslex, training version:1.6.0, current version:1.5.0\n",
      "Package:azureml-dataset-runtime, training version:1.21.0, current version:1.20.0\n",
      "Package:azureml-defaults, training version:1.21.0, current version:1.20.0\n",
      "Package:azureml-interpret, training version:1.21.0, current version:1.20.0\n",
      "Package:azureml-pipeline-core, training version:1.21.0, current version:1.20.0\n",
      "Package:azureml-telemetry, training version:1.21.0, current version:1.20.0\n",
      "Package:azureml-train-automl-client, training version:1.21.0, current version:1.20.0\n",
      "Package:azureml-train-automl-runtime, training version:1.21.0, current version:1.20.0\n",
      "WARNING:root:Please ensure the version of your local conda dependencies match the version on which your model was trained in order to properly retrieve your model.\n"
     ]
    },
    {
     "name": "stdout",
     "output_type": "stream",
     "text": [
      "Run(Experiment: liver-disease-automl,\n",
      "Id: AutoML_504cb5fa-cd54-4ce5-a418-95cf7d6c6e96_38,\n",
      "Type: azureml.scriptrun,\n",
      "Status: Completed)\n",
      "[('datatransformer', DataTransformer(enable_dnn=None, enable_feature_sweeping=None,\n",
      "                feature_sweeping_config=None, feature_sweeping_timeout=None,\n",
      "                featurization_config=None, force_text_dnn=None,\n",
      "                is_cross_validation=None, is_onnx_compatible=None, logger=None,\n",
      "                observer=None, task=None, working_dir=None)), ('prefittedsoftvotingclassifier', PreFittedSoftVotingClassifier(classification_labels=None,\n",
      "                              estimators=[('0',\n",
      "                                           Pipeline(memory=None,\n",
      "                                                    steps=[('maxabsscaler',\n",
      "                                                            MaxAbsScaler(copy=True)),\n",
      "                                                           ('lightgbmclassifier',\n",
      "                                                            LightGBMClassifier(boosting_type='gbdt',\n",
      "                                                                               class_weight=None,\n",
      "                                                                               colsample_bytree=1.0,\n",
      "                                                                               importance_type='split',\n",
      "                                                                               learning_rate=0.1,\n",
      "                                                                               max_depth=-1,\n",
      "                                                                               min_child_samples=20,\n",
      "                                                                               min_child_weight=0.001,\n",
      "                                                                               min_spl...\n",
      "                                                            LogisticRegression(C=1526.4179671752302,\n",
      "                                                                               class_weight=None,\n",
      "                                                                               dual=False,\n",
      "                                                                               fit_intercept=True,\n",
      "                                                                               intercept_scaling=1,\n",
      "                                                                               l1_ratio=None,\n",
      "                                                                               max_iter=100,\n",
      "                                                                               multi_class='ovr',\n",
      "                                                                               n_jobs=-1,\n",
      "                                                                               penalty='l2',\n",
      "                                                                               random_state=None,\n",
      "                                                                               solver='saga',\n",
      "                                                                               tol=0.0001,\n",
      "                                                                               verbose=0,\n",
      "                                                                               warm_start=False))],\n",
      "                                                    verbose=False))],\n",
      "                              flatten_transform=None,\n",
      "                              weights=[0.3333333333333333, 0.16666666666666666,\n",
      "                                       0.3333333333333333,\n",
      "                                       0.16666666666666666]))]\n"
     ]
    }
   ],
   "source": [
    "#Retrieve model details\n",
    "best_run, fitted_model = remote_run.get_output()\n",
    "print(best_run)\n",
    "print(fitted_model.steps)"
   ]
  },
  {
   "cell_type": "code",
   "execution_count": 17,
   "metadata": {},
   "outputs": [
    {
     "data": {
      "text/plain": [
       "['automl-votingEnsemble_model.joblib']"
      ]
     },
     "execution_count": 17,
     "metadata": {},
     "output_type": "execute_result"
    }
   ],
   "source": [
    "#TODO: Save the best model\n",
    "joblib.dump(fitted_model, 'automl-votingEnsemble_model.joblib')"
   ]
  },
  {
   "cell_type": "markdown",
   "metadata": {},
   "source": [
    "### Register the Fitted Model for Deployment"
   ]
  },
  {
   "cell_type": "code",
   "execution_count": 19,
   "metadata": {},
   "outputs": [
    {
     "name": "stdout",
     "output_type": "stream",
     "text": [
      "model\tmodel:1\t1\n"
     ]
    }
   ],
   "source": [
    "#Register model\n",
    "model = best_run.register_model(model_name='model',\n",
    "                           model_path='outputs/model.pkl',\n",
    "                           tags=best_run.get_metrics())\n",
    "print(model.name, model.id, model.version, sep='\\t')"
   ]
  },
  {
   "cell_type": "code",
   "execution_count": 21,
   "metadata": {},
   "outputs": [],
   "source": [
    "compute_target.delete()"
   ]
  },
  {
   "cell_type": "code",
   "execution_count": null,
   "metadata": {},
   "outputs": [],
   "source": []
  }
 ],
 "metadata": {
  "kernel_info": {
   "name": "python3"
  },
  "kernelspec": {
   "display_name": "Python 3",
   "language": "python",
   "name": "python3"
  },
  "language_info": {
   "codemirror_mode": {
    "name": "ipython",
    "version": 3
   },
   "file_extension": ".py",
   "mimetype": "text/x-python",
   "name": "python",
   "nbconvert_exporter": "python",
   "pygments_lexer": "ipython3",
   "version": "3.6.9"
  },
  "nteract": {
   "version": "nteract-front-end@1.0.0"
  }
 },
 "nbformat": 4,
 "nbformat_minor": 2
}
